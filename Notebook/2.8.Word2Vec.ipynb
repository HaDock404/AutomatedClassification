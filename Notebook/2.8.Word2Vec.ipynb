{
 "cells": [
  {
   "cell_type": "markdown",
   "metadata": {},
   "source": [
    "## Import\n",
    "Nous utiliserons une stack de Data Science habituelle : `numpy`, `pandas`, `sklearn`, `matplotlib`."
   ]
  },
  {
   "cell_type": "code",
   "execution_count": 1,
   "metadata": {},
   "outputs": [],
   "source": [
    "# manipulation des données\n",
    "import numpy as np\n",
    "import pandas as pd\n",
    "\n",
    "# matplotlib et seaborn pour les représentations graphiques\n",
    "import matplotlib.pyplot as plt\n",
    "import seaborn as sns\n",
    "import missingno as msno\n",
    "\n",
    "# sklearn preprocessing pour le traiter les variables catégorielles\n",
    "from sklearn.preprocessing import LabelEncoder\n",
    "\n",
    "# Gestion du système de fichiers\n",
    "import os\n",
    "\n",
    "# Suppression des alertes\n",
    "import warnings\n",
    "warnings.filterwarnings('ignore')"
   ]
  },
  {
   "cell_type": "code",
   "execution_count": 2,
   "metadata": {},
   "outputs": [],
   "source": [
    "df = pd.read_csv(\"../Data/1.normalized_dataset_max.csv\")"
   ]
  },
  {
   "cell_type": "markdown",
   "metadata": {},
   "source": [
    "Cette étape n'est pas nécessaire pour notre étude, elle est en doublon de [y_cat_num]()"
   ]
  },
  {
   "cell_type": "code",
   "execution_count": 3,
   "metadata": {},
   "outputs": [],
   "source": [
    "df['cluster'] = 0\n",
    "df.loc[df['product_category_tree'] == 'Home Furnishing', 'cluster'] = 0\n",
    "df.loc[df['product_category_tree'] == 'Baby Care', 'cluster'] = 1\n",
    "df.loc[df['product_category_tree'] == 'Watches', 'cluster'] = 2\n",
    "df.loc[df['product_category_tree'] == 'Home Decor & Festive Needs', 'cluster'] = 3\n",
    "df.loc[df['product_category_tree'] == 'Kitchen & Dining', 'cluster'] = 4\n",
    "df.loc[df['product_category_tree'] == 'Beauty and Personal Care', 'cluster'] = 5\n",
    "df.loc[df['product_category_tree'] == 'Computers', 'cluster'] = 6"
   ]
  },
  {
   "cell_type": "markdown",
   "metadata": {},
   "source": [
    "Nous pouvons constater 7 catégories distinctives dans la segmentation des produits du dataset."
   ]
  },
  {
   "cell_type": "code",
   "execution_count": 4,
   "metadata": {},
   "outputs": [
    {
     "name": "stdout",
     "output_type": "stream",
     "text": [
      "catégories :  ['Home Decor & Festive Needs', 'Watches', 'Home Furnishing', 'Baby Care', 'Kitchen & Dining', 'Computers', 'Beauty and Personal Care']\n"
     ]
    }
   ],
   "source": [
    "l_cat = list(set(df['product_category_tree']))\n",
    "print(\"catégories : \", l_cat)"
   ]
  },
  {
   "cell_type": "markdown",
   "metadata": {},
   "source": [
    "Pour notre travail de segmentation des produits nous devons simplifier la catégorisation des produits pour le modèle de Machine Learning. Nous remplaçons donc les catégories par des chiffres, plus simple à interpréter."
   ]
  },
  {
   "cell_type": "code",
   "execution_count": 5,
   "metadata": {},
   "outputs": [],
   "source": [
    "y_cat_num = []\n",
    "\n",
    "for i in range(len(df)):\n",
    "    category = df.iloc[i]['product_category_tree']\n",
    "    index_of_category = l_cat.index(category)\n",
    "    transformed_value = 1 - index_of_category\n",
    "    y_cat_num.append(transformed_value)"
   ]
  },
  {
   "cell_type": "markdown",
   "metadata": {},
   "source": [
    "[Gensim]() est une bibliothèque open-source en Python utilisée pour le traitement automatique du langage naturel (NLP) et la modélisation de sujets. Elle est principalement conçue pour traiter des corpus de texte volumineux et extraire des structures sémantiques à partir de ces données.  \n",
    "[TensorFlow]() est une bibliothèque open-source développée par l'équipe Google Brain pour le calcul numérique et le machine learning. Elle est particulièrement populaire dans le domaine de l'apprentissage profond (deep learning). TensorFlow fournit des outils flexibles et efficaces pour la construction et l'entraînement de modèles d'apprentissage automatique, en mettant l'accent sur les réseaux de neurones.\n"
   ]
  },
  {
   "cell_type": "code",
   "execution_count": 6,
   "metadata": {},
   "outputs": [
    {
     "name": "stderr",
     "output_type": "stream",
     "text": [
      "2023-12-26 11:20:24.503795: I tensorflow/core/platform/cpu_feature_guard.cc:182] This TensorFlow binary is optimized to use available CPU instructions in performance-critical operations.\n",
      "To enable the following instructions: AVX2 FMA, in other operations, rebuild TensorFlow with the appropriate compiler flags.\n"
     ]
    }
   ],
   "source": [
    "import tensorflow as tf\n",
    "import tensorflow.keras\n",
    "from tensorflow.keras import backend as K\n",
    "\n",
    "from tensorflow.keras.preprocessing.text import Tokenizer\n",
    "from tensorflow.keras.preprocessing.sequence import pad_sequences\n",
    "from tensorflow.keras import metrics as kmetrics\n",
    "from tensorflow.keras.layers import *\n",
    "from tensorflow.keras.models import Model\n",
    "import gensim"
   ]
  },
  {
   "cell_type": "markdown",
   "metadata": {},
   "source": [
    "Entrainement du modèle de Machine Learning avec différents paramètres spécifiés.\n",
    "- [min_count](): nombre minimum d'occurrences qu'un mot doit avoir dans le corpus pour être pris en compte lors de la création du modèle. Les mots qui apparaissent moins de `min_count` fois sont ignorés. Cela aide à éliminer le bruit des mots rares qui peuvent ne pas fournir suffisamment d'informations.\n",
    "- [window](): taille de la fenêtre autour du mot cible lors de l'apprentissage. Le modèle Word2Vec prédit le contexte d'un mot en fonction des mots qui l'entourent dans une fenêtre de taille `window`. \n",
    "- [vector_size](): dimension des vecteurs de mots résultants. Chaque mot dans le modèle Word2Vec est représenté par un vecteur de taille `vector_size`.\n",
    "- [seed](): initialise le générateur de nombres aléatoires. Assure la reproductibilité du modèle.\n",
    "- [workers](): nombre de cœurs de processeur à utiliser pour l'entraînement du modèle."
   ]
  },
  {
   "cell_type": "code",
   "execution_count": 7,
   "metadata": {},
   "outputs": [
    {
     "name": "stdout",
     "output_type": "stream",
     "text": [
      "Build & train Word2Vec model ...\n",
      "Vocabulary size: 28\n",
      "Word2Vec trained\n"
     ]
    }
   ],
   "source": [
    "# Création et entraînement du modèle Word2Vec\n",
    "w2v_size=300\n",
    "w2v_window=5\n",
    "w2v_min_count=1\n",
    "w2v_epochs=100\n",
    "\n",
    "sentences = df['words'].to_list()\n",
    "\n",
    "print(\"Build & train Word2Vec model ...\")\n",
    "w2v_model = gensim.models.Word2Vec(min_count=w2v_min_count, window=w2v_window,\n",
    "                                                vector_size=w2v_size,\n",
    "                                                seed=42,\n",
    "                                                workers=1)\n",
    "#                                                workers=multiprocessing.cpu_count())\n",
    "w2v_model.build_vocab(sentences)\n",
    "w2v_model.train(sentences, total_examples=w2v_model.corpus_count, epochs=w2v_epochs)\n",
    "model_vectors = w2v_model.wv\n",
    "w2v_words = model_vectors.index_to_key\n",
    "print(\"Vocabulary size: %i\" % len(w2v_words))\n",
    "print(\"Word2Vec trained\")"
   ]
  },
  {
   "cell_type": "markdown",
   "metadata": {},
   "source": [
    "Nous utilisons un processus de Tokenisation des mots avec la méthode [Tokenizer]() pour diviser le texte de description en unité plus petite de mots pour ensuite effectuer différentes opérations dessus.  \n",
    "La fonction [pad_sequences]() rend toutes la séquences d'entier de la même longueur en ajoutant du rembourrage. Le paramètre `maxlen` spécifie la longueur maximale des séquences, et le paramètre `padding` indique que le rembourrage doit être ajouté à la fin de chaque séquence."
   ]
  },
  {
   "cell_type": "code",
   "execution_count": 8,
   "metadata": {},
   "outputs": [
    {
     "name": "stdout",
     "output_type": "stream",
     "text": [
      "Fit Tokenizer ...\n",
      "Number of unique words: 3119\n"
     ]
    }
   ],
   "source": [
    "# Préparation des sentences (tokenization)\n",
    "maxlen = 24 # adapt to length of sentences\n",
    "\n",
    "print(\"Fit Tokenizer ...\")\n",
    "tokenizer = Tokenizer()\n",
    "tokenizer.fit_on_texts(sentences)\n",
    "x_sentences = pad_sequences(tokenizer.texts_to_sequences(sentences),\n",
    "                                                     maxlen=maxlen,\n",
    "                                                     padding='post') \n",
    "                                                   \n",
    "num_words = len(tokenizer.word_index) + 1\n",
    "print(\"Number of unique words: %i\" % num_words)"
   ]
  },
  {
   "cell_type": "markdown",
   "metadata": {},
   "source": [
    "Puis nous créons une matrice d'embedding des mots qui ont été transformé en Token précédemment. Les token sont transformé en vecteur qui permettront de cerner les mots ayant une représentation similaire dans l'espace vectoriel."
   ]
  },
  {
   "cell_type": "code",
   "execution_count": 9,
   "metadata": {},
   "outputs": [
    {
     "name": "stdout",
     "output_type": "stream",
     "text": [
      "Create Embedding matrix ...\n",
      "Word embedding rate :  0.0083\n",
      "Embedding matrix: (3119, 300)\n"
     ]
    }
   ],
   "source": [
    "# Création de la matrice d'embedding\n",
    "\n",
    "print(\"Create Embedding matrix ...\")\n",
    "w2v_size = 300\n",
    "word_index = tokenizer.word_index\n",
    "vocab_size = len(word_index) + 1\n",
    "embedding_matrix = np.zeros((vocab_size, w2v_size))\n",
    "i=0\n",
    "j=0\n",
    "    \n",
    "for word, idx in word_index.items():\n",
    "    i +=1\n",
    "    if word in w2v_words:\n",
    "        j +=1\n",
    "        embedding_vector = model_vectors[word]\n",
    "        if embedding_vector is not None:\n",
    "            embedding_matrix[idx] = model_vectors[word]\n",
    "            \n",
    "word_rate = np.round(j/i,4)\n",
    "print(\"Word embedding rate : \", word_rate)\n",
    "print(\"Embedding matrix: %s\" % str(embedding_matrix.shape))"
   ]
  },
  {
   "cell_type": "markdown",
   "metadata": {},
   "source": [
    "Enfin nous utilisons le modèle de Machine Learning Keras sur les vecteurs la matrice d'embedding pré-entraînée juste avant avec Word2Vec. Cette opération d'embedding est utilisée pour transformer des mots en vecteurs denses de nombres réels."
   ]
  },
  {
   "cell_type": "code",
   "execution_count": 10,
   "metadata": {},
   "outputs": [
    {
     "name": "stdout",
     "output_type": "stream",
     "text": [
      "Model: \"model\"\n",
      "_________________________________________________________________\n",
      " Layer (type)                Output Shape              Param #   \n",
      "=================================================================\n",
      " input_2 (InputLayer)        [(None, 24)]              0         \n",
      "                                                                 \n",
      " embedding (Embedding)       (None, 24, 300)           935700    \n",
      "                                                                 \n",
      " global_average_pooling1d (  (None, 300)               0         \n",
      " GlobalAveragePooling1D)                                         \n",
      "                                                                 \n",
      "=================================================================\n",
      "Total params: 935700 (3.57 MB)\n",
      "Trainable params: 935700 (3.57 MB)\n",
      "Non-trainable params: 0 (0.00 Byte)\n",
      "_________________________________________________________________\n"
     ]
    }
   ],
   "source": [
    "# Création du modèle\n",
    "\n",
    "input=Input(shape=(len(x_sentences),maxlen),dtype='float64')\n",
    "word_input=Input(shape=(maxlen,),dtype='float64')  \n",
    "word_embedding=Embedding(input_dim=vocab_size,\n",
    "                         output_dim=w2v_size,\n",
    "                         weights = [embedding_matrix],\n",
    "                         input_length=maxlen)(word_input)\n",
    "word_vec=GlobalAveragePooling1D()(word_embedding)  \n",
    "embed_model = Model([word_input],word_vec)\n",
    "\n",
    "embed_model.summary()"
   ]
  },
  {
   "cell_type": "code",
   "execution_count": 11,
   "metadata": {},
   "outputs": [
    {
     "name": "stdout",
     "output_type": "stream",
     "text": [
      "33/33 [==============================] - 0s 1ms/step\n"
     ]
    },
    {
     "data": {
      "text/plain": [
       "(1050, 300)"
      ]
     },
     "execution_count": 11,
     "metadata": {},
     "output_type": "execute_result"
    }
   ],
   "source": [
    "embeddings = embed_model.predict(x_sentences)\n",
    "embeddings.shape"
   ]
  },
  {
   "cell_type": "markdown",
   "metadata": {},
   "source": [
    "Nous utilisons ensuite la technique de réduction de dimensionnalité [t-SNE]() (t-distributed Stochastic Neighbor Embedding) pour transformer la matrice de donnée [X](), en un espace bidimensionnel."
   ]
  },
  {
   "cell_type": "code",
   "execution_count": 12,
   "metadata": {},
   "outputs": [],
   "source": [
    "from sklearn.manifold import TSNE\n",
    "\n",
    "tsne = TSNE(n_components=2, random_state=42)\n",
    "X_tsne = tsne.fit_transform(embeddings)\n",
    "\n",
    "df_tsne = pd.DataFrame({\"tsne_1\" : X_tsne[:, 0], \"tsne_2\" : X_tsne[:, 1], \"cluster\" : df['cluster']})"
   ]
  },
  {
   "cell_type": "code",
   "execution_count": 13,
   "metadata": {},
   "outputs": [],
   "source": [
    "X = df_tsne.drop('cluster', axis=1).values"
   ]
  },
  {
   "cell_type": "markdown",
   "metadata": {},
   "source": [
    "Nous utilisons ensuite un modèle de ML : le [K-Means]().\n",
    "Il permet d’analyser un jeu de données caractérisées par un ensemble de descripteurs, afin de regrouper les données “similaires” en groupes (ou clusters). Il minimise la somme des variances intra-cluster.\n",
    "Ici nous appliquons ce modèle sur nos données réduites car cette méthode permet de valider la pertinence d'une segmentation de produits par leur description textuelle. Cela nous permet également d'identifier plus facilement les différents groupes de mots qui ont permis une bonne segmentation. Si notre étude valide la possibilité d'utiliser les données textuelles pour effectuer une classification automatique de produits, nous utiliserons alors les données réelles plutôt que les données réduites."
   ]
  },
  {
   "cell_type": "code",
   "execution_count": 14,
   "metadata": {},
   "outputs": [],
   "source": [
    "from sklearn.cluster import KMeans\n",
    "\n",
    "kmeans = KMeans(n_clusters=7, random_state=42)\n",
    "df_tsne['cluster_predict'] = kmeans.fit_predict(X)"
   ]
  },
  {
   "cell_type": "markdown",
   "metadata": {},
   "source": [
    "Pour évaluer la pertinence de notre modèle de clustering nous devons recaller les cluster créés par notre K-means avec les catégories de produits réelles. Pour ce faire nous étudions rapidement quel cluster a été créé et correspond à une catégorie réelle. Si le numéro de cluster n'est pas correect nous le corrigons."
   ]
  },
  {
   "cell_type": "code",
   "execution_count": 15,
   "metadata": {},
   "outputs": [
    {
     "name": "stdout",
     "output_type": "stream",
     "text": [
      "Valeurs les plus fréquentes pour le cluster prédit 0\n",
      "cluster\n",
      "2    84\n",
      "0    65\n",
      "3    65\n",
      "5    63\n",
      "6    51\n",
      "4    30\n",
      "1    30\n",
      "Name: count, dtype: int64\n",
      "Valeurs les plus fréquentes pour le cluster prédit 1\n",
      "cluster\n",
      "1    64\n",
      "0    36\n",
      "2    35\n",
      "4    32\n",
      "6    30\n",
      "3    30\n",
      "5    20\n",
      "Name: count, dtype: int64\n",
      "Valeurs les plus fréquentes pour le cluster prédit 2\n",
      "cluster\n",
      "6    36\n",
      "4    29\n",
      "1    15\n",
      "2    14\n",
      "5    11\n",
      "3     9\n",
      "0     4\n",
      "Name: count, dtype: int64\n",
      "Valeurs les plus fréquentes pour le cluster prédit 3\n",
      "cluster\n",
      "5    20\n",
      "0    13\n",
      "1    12\n",
      "2     9\n",
      "3     8\n",
      "4     4\n",
      "6     3\n",
      "Name: count, dtype: int64\n",
      "Valeurs les plus fréquentes pour le cluster prédit 4\n",
      "cluster\n",
      "4    36\n",
      "0     8\n",
      "3     8\n",
      "1     8\n",
      "5     4\n",
      "6     4\n",
      "2     3\n",
      "Name: count, dtype: int64\n",
      "Valeurs les plus fréquentes pour le cluster prédit 5\n",
      "cluster\n",
      "5    21\n",
      "4    16\n",
      "3    12\n",
      "0     8\n",
      "6     8\n",
      "1     5\n",
      "2     1\n",
      "Name: count, dtype: int64\n",
      "Valeurs les plus fréquentes pour le cluster prédit 6\n",
      "cluster\n",
      "3    18\n",
      "6    18\n",
      "1    16\n",
      "0    16\n",
      "5    11\n",
      "2     4\n",
      "4     3\n",
      "Name: count, dtype: int64\n"
     ]
    }
   ],
   "source": [
    "def determine_cluster():\n",
    "    for i in range(7):\n",
    "        print(f\"Valeurs les plus fréquentes pour le cluster prédit {i}\")\n",
    "        print(df_tsne[df_tsne['cluster_predict'] == i]['cluster'].value_counts())\n",
    "determine_cluster()"
   ]
  },
  {
   "cell_type": "code",
   "execution_count": 16,
   "metadata": {},
   "outputs": [
    {
     "name": "stdout",
     "output_type": "stream",
     "text": [
      "[[65 36  4 13  8  8 16]\n",
      " [30 64 15 12  8  5 16]\n",
      " [84 35 14  9  3  1  4]\n",
      " [65 30  9  8  8 12 18]\n",
      " [30 32 29  4 36 16  3]\n",
      " [63 20 11 20  4 21 11]\n",
      " [51 30 36  3  4  8 18]]\n",
      "--------------------------------\n",
      "[[16 36 65  8  8 13  4]\n",
      " [16 64 30  5  8 12 15]\n",
      " [ 4 35 84  1  3  9 14]\n",
      " [18 30 65 12  8  8  9]\n",
      " [ 3 32 30 16 36  4 29]\n",
      " [11 20 63 21  4 20 11]\n",
      " [18 30 51  8  4  3 36]]\n"
     ]
    }
   ],
   "source": [
    "from sklearn import metrics\n",
    "\n",
    "def conf_mat_transform(y_true,y_pred) :\n",
    "    corresp = [2, 1, 6, 5, 4, 3, 0]\n",
    "\n",
    "    labels = pd.Series(y_true, name=\"y_true\").to_frame()\n",
    "    labels['y_pred'] = y_pred\n",
    "    labels['y_pred_transform'] = labels['y_pred'].apply(lambda x : corresp[x]) \n",
    "    \n",
    "    return labels['y_pred_transform']\n",
    "\n",
    "cls_labels_transform = conf_mat_transform(df_tsne['cluster'], kmeans.labels_)\n",
    "conf_mat = metrics.confusion_matrix(df_tsne['cluster'], kmeans.labels_)\n",
    "conf_matX = metrics.confusion_matrix(df_tsne['cluster'], cls_labels_transform)\n",
    "print(conf_mat)\n",
    "print(\"--------------------------------\")\n",
    "print(conf_matX)"
   ]
  },
  {
   "cell_type": "markdown",
   "metadata": {},
   "source": [
    "Pour évaluer les performances de notre modèle de classification nous utilisons une matrice de confusion. Elle permet de visualiser le nombre de prédictions correctes et incorrectes faites par notre modèle comparé aux classes réelles dans un ensemble de données. La matrice de confusion est simple de compréhension lorsque nous avons à faire à une segmentation binaire, mais peut s'avérer plus difficilement interprétable lorsqu'il s'agit d'une segmentation multi-classe. Ci-dessous un schéma pour pouvoir interpréter les résultats en additionnant les valeurs correspondantes. \n",
    "\n",
    "![image](https://www.researchgate.net/profile/Frank-Krueger-2/publication/314116591/figure/fig7/AS:614085901185031@1523420896093/Confusion-matrix-for-multi-class-classification-The-confusion-matrix-of-a.png)\n",
    "\n",
    "- Vraies positives (True Positives - TP) : nombre d'observations qui ont été correctement prédites comme appartenant à la classe positive par le modèle.\n",
    "\n",
    "- Vraies négatives (True Negatives - TN) : nombre d'observations qui ont été correctement prédites comme n'appartenant pas à la classe positive par le modèle.\n",
    "\n",
    "- Faux positifs (False Positives - FP) : nombre d'observations qui ont été incorrectement prédites comme appartenant à la classe positive par le modèle alors qu'elles n'y appartiennent pas réellement.\n",
    "\n",
    "- Faux négatifs (False Negatives - FN) : nombre d'observations qui ont été incorrectement prédites comme n'appartenant pas à la classe positive par le modèle alors qu'elles appartiennent réellement à cette classe."
   ]
  },
  {
   "cell_type": "markdown",
   "metadata": {},
   "source": [
    "Par le biais de cette matrice de confusion nous pouvons par la suite obtenir différentes métrics de performances pour évaluer notre modèle et sélectionner le meilleur.\n",
    "\n",
    "- Precision : Mesure la proportion d'observations positives correctement identifiées parmi toutes les observations identifiées comme positives par le modèle.\n",
    "- Recall : Mesure la proportion d'observations positives correctement identifiées parmi toutes les observations réellement positives.\n",
    "- F1-score : métrique qui combine à la fois la précision et le rappel\n",
    "- Accuracy : Mesure la proportion d'observations correctement classées parmi l'ensemble des observations.\n",
    "- Macro avg : moyenne arithmétique des métriques pour chaque classe.\n",
    "- Weighted avg : moyenne des métriques en tenant compte du nombre d'occurrences de chaque classe.\n"
   ]
  },
  {
   "cell_type": "code",
   "execution_count": 17,
   "metadata": {},
   "outputs": [
    {
     "name": "stdout",
     "output_type": "stream",
     "text": [
      "              precision    recall  f1-score   support\n",
      "\n",
      "           0       0.19      0.11      0.14       150\n",
      "           1       0.26      0.43      0.32       150\n",
      "           2       0.22      0.56      0.31       150\n",
      "           3       0.17      0.08      0.11       150\n",
      "           4       0.51      0.24      0.33       150\n",
      "           5       0.29      0.13      0.18       150\n",
      "           6       0.31      0.24      0.27       150\n",
      "\n",
      "    accuracy                           0.26      1050\n",
      "   macro avg       0.28      0.26      0.24      1050\n",
      "weighted avg       0.28      0.26      0.24      1050\n",
      "\n"
     ]
    }
   ],
   "source": [
    "print(metrics.classification_report(df_tsne['cluster'], cls_labels_transform))"
   ]
  },
  {
   "cell_type": "markdown",
   "metadata": {},
   "source": [
    "Puis nous pouvons afficher graphiquement la segmentation des produits avec les catégories des individus représenté par nuage de point et la segmentation prédite par l'algorithme k-means. Ainsi nous pouvons constater que la segmentation réalisé par le modèle arrive à reproduire la segmentation réelle des catégories de produits. Mais lorsque les points sont agglomérés dans un nuage indistinc, le modèle ne reproduit pas correctement le clustering."
   ]
  },
  {
   "cell_type": "code",
   "execution_count": 18,
   "metadata": {},
   "outputs": [
    {
     "data": {
      "image/png": "[encoded data removed]",
      "text/plain": [
       "<Figure size 640x480 with 2 Axes>"
      ]
     },
     "metadata": {},
     "output_type": "display_data"
    }
   ],
   "source": [
    "plt.subplot(1, 2, 1)\n",
    "plt.scatter(df_tsne['tsne_1'], df_tsne['tsne_2'], c=df_tsne['cluster'], cmap='viridis')\n",
    "plt.xlabel('t-SNE Component 1')\n",
    "plt.ylabel('t-SNE Component 2')\n",
    "plt.title('Segmentation réelle des produits')\n",
    "\n",
    "plt.subplot(1, 2, 2)\n",
    "plt.scatter(df_tsne['tsne_1'], df_tsne['tsne_2'], c=cls_labels_transform, cmap='viridis')\n",
    "plt.xlabel('t-SNE Component 1')\n",
    "plt.ylabel('t-SNE Component 2')\n",
    "plt.title('Segmentation prédite des produits')\n",
    "\n",
    "plt.tight_layout()\n",
    "plt.show()"
   ]
  },
  {
   "cell_type": "markdown",
   "metadata": {},
   "source": [
    "Il convient en plus d'une analyse graphique de réaliser une analyse technique de la segmentation réalisé par le modèle k-means. Pour cela nous utilisons l'[ARI](), (Adjusted Rand Index), une mesure de similarité entre deux ensembles d'éléments, souvent utilisée pour évaluer la qualité d'une partition dans le contexte de l'analyse de clustering. Cette metric mesure la similarité entre les regroupements produits par un algorithme de clustering et les regroupements réels ou attendus, en prenant en compte le hasard."
   ]
  },
  {
   "cell_type": "code",
   "execution_count": 19,
   "metadata": {},
   "outputs": [
    {
     "data": {
      "text/plain": [
       "0.0307"
      ]
     },
     "execution_count": 19,
     "metadata": {},
     "output_type": "execute_result"
    }
   ],
   "source": [
    "from sklearn import metrics\n",
    "ARI = np.round(metrics.adjusted_rand_score(y_cat_num, kmeans.labels_),4)\n",
    "ARI"
   ]
  },
  {
   "cell_type": "code",
   "execution_count": null,
   "metadata": {},
   "outputs": [],
   "source": []
  }
 ],
 "metadata": {
  "kernelspec": {
   "display_name": "Projet6Env",
   "language": "python",
   "name": "python3"
  },
  "language_info": {
   "codemirror_mode": {
    "name": "ipython",
    "version": 3
   },
   "file_extension": ".py",
   "mimetype": "text/x-python",
   "name": "python",
   "nbconvert_exporter": "python",
   "pygments_lexer": "ipython3",
   "version": "3.10.9"
  }
 },
 "nbformat": 4,
 "nbformat_minor": 2
}
