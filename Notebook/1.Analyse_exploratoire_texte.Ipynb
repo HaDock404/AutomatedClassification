{
 "cells": [
  {
   "cell_type": "markdown",
   "metadata": {},
   "source": [
    "# Classifiez automatiquement des biens de consommation\n",
    "Dans ce Notebook, nous réaliserons une classification automatique des biens de consommation fournis par les vendeurs à la plateforme [Place De Marché](https://google.com) afin de permettre une recherche simplifié de produits pour les clients.\n",
    "\n",
    "\n",
    "![Place de marché](https://user.oc-static.com/upload/2019/02/24/15510259240381_Projet%20textimage%20logo.png)  \n",
    "\n",
    "\n",
    "Sur cette place de marché anglophone, des vendeurs proposent des articles à des acheteurs en postant une photo et une description.\n",
    "\n",
    "Pour l'instant, l'attribution de la catégorie d'un article est effectuée manuellement par les vendeurs, et est donc peu fiable.  \n",
    "Une classification automatique permettrait de catégoriser efficacement les produits en fonction de leurs caractéristiques, facilitant ainsi la recherche et la comparaison des produits. Cela permettrait aux consommateurs de gagner du temps et de prendre des décisions plus informées, en accordant une attention particulière aux aspects qui leur importent le plus.\n",
    "\n",
    "De plus, du côté des entreprises, la classification automatique offre une gestion plus efficace des stocks et une optimisation des chaînes d'approvisionnement. En automatisant le processus de catégorisation, la société [Place De Marché](https://google.com) pourra rationaliser ses opérations, réduire ses coûts logistiques et améliorer sa disponibilité de produits. Cela favorisera également l'innovation en facilitant l'identification des tendances émergentes dans chacun des catégories proposées par la plateforme."
   ]
  },
  {
   "cell_type": "markdown",
   "metadata": {},
   "source": [
    "## Analyse des descriptions textuelles et des images des produits.\n",
    "\n",
    "### Introduction :  \n",
    "\n",
    "\n",
    "L'objectif principal de notre projet est de développer un système intelligent capable d'analyser et de comprendre les descriptions textuelles et les images des produits de manière conjointe. En utilisant des techniques avancées de traitement du langage naturel (NLP) et de vision par ordinateur, notre solution cherchera à extraire des informations clés, à établir des liens sémantiques et à créer une représentation unifiée des produits."
   ]
  },
  {
   "cell_type": "markdown",
   "metadata": {},
   "source": [
    "## Table des matières\n",
    "\n",
    "\n",
    "#### [1.Présentation des données](#1.-Présentation-des-données)\n",
    "#### [2.Nettoyage du Dataset](#2.-Nettoyage-du-Dataset)\n",
    "#### - [A.Traitement des valeurs aberrantes](#A.-Traitement-des-valeurs-aberrantes)\n",
    "#### - [B.Traitement des valeurs manquantes](#B.-Traitement-des-valeurs-manquantes)\n",
    "\n",
    "#### [3.Analyse exploratoire du Dataset](#3.-Analyse-exploratoire-du-Dataset)\n",
    "#### - [A.Analyse univariées](#A.-Analyse-univariées)\n",
    "#### - [B.Analyse bivariées](#B.-Analyse-bivariées)\n",
    "#### - [C.Analyse multivariées](#C.-Analyse-multivariées)"
   ]
  },
  {
   "cell_type": "markdown",
   "metadata": {},
   "source": [
    "## 1. Présentation des données"
   ]
  },
  {
   "cell_type": "markdown",
   "metadata": {},
   "source": [
    "## Import\n",
    "Nous utiliserons une stack de Data Science habituelle : `numpy`, `pandas`, `sklearn`, `matplotlib`."
   ]
  },
  {
   "cell_type": "code",
   "execution_count": 197,
   "metadata": {},
   "outputs": [],
   "source": [
    "# manipulation des données\n",
    "import numpy as np\n",
    "import pandas as pd\n",
    "\n",
    "# matplotlib et seaborn pour les représentations graphiques\n",
    "import matplotlib.pyplot as plt\n",
    "import seaborn as sns\n",
    "import missingno as msno\n",
    "\n",
    "# sklearn preprocessing pour le traiter les variables catégorielles\n",
    "from sklearn.preprocessing import LabelEncoder\n",
    "\n",
    "# Gestion du système de fichiers\n",
    "import os\n",
    "\n",
    "# Suppression des alertes\n",
    "import warnings\n",
    "warnings.filterwarnings('ignore')"
   ]
  },
  {
   "cell_type": "markdown",
   "metadata": {},
   "source": [
    "Les données que nous utiliserons durant notre étude ont le chemin d'accès relatif suivant [\"../Data/Flipkart\"](). Nous pouvons retrouver dans le dossier [./Flipkart]() un fichier csv qui comprend la liste des produits avec différentes les caractéristiques de chaque produit. Nous utiliserons ce fichier pour réaliser notre analyse des descriptions textuelles des produits. Egalement dans le dossier [./Flipkart]() un sous-dossier [./Image]() qui comprend les images de chaque produit. Nous utiliserons ces images pour réaliser notre analyse des images des produits."
   ]
  },
  {
   "cell_type": "code",
   "execution_count": 198,
   "metadata": {},
   "outputs": [
    {
     "name": "stdout",
     "output_type": "stream",
     "text": [
      "['flipkart_com-ecommerce_sample_1050.csv', '.DS_Store', 'Images']\n"
     ]
    }
   ],
   "source": [
    "print(os.listdir(\"../Data/Flipkart\"))"
   ]
  },
  {
   "cell_type": "markdown",
   "metadata": {},
   "source": [
    "Nous importons le fichier dont les données nous serons utile pour notre étude."
   ]
  },
  {
   "cell_type": "code",
   "execution_count": 199,
   "metadata": {},
   "outputs": [
    {
     "data": {
      "text/html": [
       "<div>\n",
       "<style scoped>\n",
       "    .dataframe tbody tr th:only-of-type {\n",
       "        vertical-align: middle;\n",
       "    }\n",
       "\n",
       "    .dataframe tbody tr th {\n",
       "        vertical-align: top;\n",
       "    }\n",
       "\n",
       "    .dataframe thead th {\n",
       "        text-align: right;\n",
       "    }\n",
       "</style>\n",
       "<table border=\"1\" class=\"dataframe\">\n",
       "  <thead>\n",
       "    <tr style=\"text-align: right;\">\n",
       "      <th></th>\n",
       "      <th>uniq_id</th>\n",
       "      <th>crawl_timestamp</th>\n",
       "      <th>product_url</th>\n",
       "      <th>product_name</th>\n",
       "      <th>product_category_tree</th>\n",
       "      <th>pid</th>\n",
       "      <th>retail_price</th>\n",
       "      <th>discounted_price</th>\n",
       "      <th>image</th>\n",
       "      <th>is_FK_Advantage_product</th>\n",
       "      <th>description</th>\n",
       "      <th>product_rating</th>\n",
       "      <th>overall_rating</th>\n",
       "      <th>brand</th>\n",
       "      <th>product_specifications</th>\n",
       "    </tr>\n",
       "  </thead>\n",
       "  <tbody>\n",
       "    <tr>\n",
       "      <th>0</th>\n",
       "      <td>55b85ea15a1536d46b7190ad6fff8ce7</td>\n",
       "      <td>2016-04-30 03:22:56 +0000</td>\n",
       "      <td>http://www.flipkart.com/elegance-polyester-mul...</td>\n",
       "      <td>Elegance Polyester Multicolor Abstract Eyelet ...</td>\n",
       "      <td>[\"Home Furnishing &gt;&gt; Curtains &amp; Accessories &gt;&gt;...</td>\n",
       "      <td>CRNEG7BKMFFYHQ8Z</td>\n",
       "      <td>1899.0</td>\n",
       "      <td>899.0</td>\n",
       "      <td>55b85ea15a1536d46b7190ad6fff8ce7.jpg</td>\n",
       "      <td>False</td>\n",
       "      <td>Key Features of Elegance Polyester Multicolor ...</td>\n",
       "      <td>No rating available</td>\n",
       "      <td>No rating available</td>\n",
       "      <td>Elegance</td>\n",
       "      <td>{\"product_specification\"=&gt;[{\"key\"=&gt;\"Brand\", \"v...</td>\n",
       "    </tr>\n",
       "    <tr>\n",
       "      <th>1</th>\n",
       "      <td>7b72c92c2f6c40268628ec5f14c6d590</td>\n",
       "      <td>2016-04-30 03:22:56 +0000</td>\n",
       "      <td>http://www.flipkart.com/sathiyas-cotton-bath-t...</td>\n",
       "      <td>Sathiyas Cotton Bath Towel</td>\n",
       "      <td>[\"Baby Care &gt;&gt; Baby Bath &amp; Skin &gt;&gt; Baby Bath T...</td>\n",
       "      <td>BTWEGFZHGBXPHZUH</td>\n",
       "      <td>600.0</td>\n",
       "      <td>449.0</td>\n",
       "      <td>7b72c92c2f6c40268628ec5f14c6d590.jpg</td>\n",
       "      <td>False</td>\n",
       "      <td>Specifications of Sathiyas Cotton Bath Towel (...</td>\n",
       "      <td>No rating available</td>\n",
       "      <td>No rating available</td>\n",
       "      <td>Sathiyas</td>\n",
       "      <td>{\"product_specification\"=&gt;[{\"key\"=&gt;\"Machine Wa...</td>\n",
       "    </tr>\n",
       "    <tr>\n",
       "      <th>2</th>\n",
       "      <td>64d5d4a258243731dc7bbb1eef49ad74</td>\n",
       "      <td>2016-04-30 03:22:56 +0000</td>\n",
       "      <td>http://www.flipkart.com/eurospa-cotton-terry-f...</td>\n",
       "      <td>Eurospa Cotton Terry Face Towel Set</td>\n",
       "      <td>[\"Baby Care &gt;&gt; Baby Bath &amp; Skin &gt;&gt; Baby Bath T...</td>\n",
       "      <td>BTWEG6SHXTDB2A2Y</td>\n",
       "      <td>NaN</td>\n",
       "      <td>NaN</td>\n",
       "      <td>64d5d4a258243731dc7bbb1eef49ad74.jpg</td>\n",
       "      <td>False</td>\n",
       "      <td>Key Features of Eurospa Cotton Terry Face Towe...</td>\n",
       "      <td>No rating available</td>\n",
       "      <td>No rating available</td>\n",
       "      <td>Eurospa</td>\n",
       "      <td>{\"product_specification\"=&gt;[{\"key\"=&gt;\"Material\",...</td>\n",
       "    </tr>\n",
       "    <tr>\n",
       "      <th>3</th>\n",
       "      <td>d4684dcdc759dd9cdf41504698d737d8</td>\n",
       "      <td>2016-06-20 08:49:52 +0000</td>\n",
       "      <td>http://www.flipkart.com/santosh-royal-fashion-...</td>\n",
       "      <td>SANTOSH ROYAL FASHION Cotton Printed King size...</td>\n",
       "      <td>[\"Home Furnishing &gt;&gt; Bed Linen &gt;&gt; Bedsheets &gt;&gt;...</td>\n",
       "      <td>BDSEJT9UQWHDUBH4</td>\n",
       "      <td>2699.0</td>\n",
       "      <td>1299.0</td>\n",
       "      <td>d4684dcdc759dd9cdf41504698d737d8.jpg</td>\n",
       "      <td>False</td>\n",
       "      <td>Key Features of SANTOSH ROYAL FASHION Cotton P...</td>\n",
       "      <td>No rating available</td>\n",
       "      <td>No rating available</td>\n",
       "      <td>SANTOSH ROYAL FASHION</td>\n",
       "      <td>{\"product_specification\"=&gt;[{\"key\"=&gt;\"Brand\", \"v...</td>\n",
       "    </tr>\n",
       "    <tr>\n",
       "      <th>4</th>\n",
       "      <td>6325b6870c54cd47be6ebfbffa620ec7</td>\n",
       "      <td>2016-06-20 08:49:52 +0000</td>\n",
       "      <td>http://www.flipkart.com/jaipur-print-cotton-fl...</td>\n",
       "      <td>Jaipur Print Cotton Floral King sized Double B...</td>\n",
       "      <td>[\"Home Furnishing &gt;&gt; Bed Linen &gt;&gt; Bedsheets &gt;&gt;...</td>\n",
       "      <td>BDSEJTHNGWVGWWQU</td>\n",
       "      <td>2599.0</td>\n",
       "      <td>698.0</td>\n",
       "      <td>6325b6870c54cd47be6ebfbffa620ec7.jpg</td>\n",
       "      <td>False</td>\n",
       "      <td>Key Features of Jaipur Print Cotton Floral Kin...</td>\n",
       "      <td>No rating available</td>\n",
       "      <td>No rating available</td>\n",
       "      <td>Jaipur Print</td>\n",
       "      <td>{\"product_specification\"=&gt;[{\"key\"=&gt;\"Machine Wa...</td>\n",
       "    </tr>\n",
       "    <tr>\n",
       "      <th>...</th>\n",
       "      <td>...</td>\n",
       "      <td>...</td>\n",
       "      <td>...</td>\n",
       "      <td>...</td>\n",
       "      <td>...</td>\n",
       "      <td>...</td>\n",
       "      <td>...</td>\n",
       "      <td>...</td>\n",
       "      <td>...</td>\n",
       "      <td>...</td>\n",
       "      <td>...</td>\n",
       "      <td>...</td>\n",
       "      <td>...</td>\n",
       "      <td>...</td>\n",
       "      <td>...</td>\n",
       "    </tr>\n",
       "    <tr>\n",
       "      <th>1045</th>\n",
       "      <td>958f54f4c46b53c8a0a9b8167d9140bc</td>\n",
       "      <td>2015-12-01 10:15:43 +0000</td>\n",
       "      <td>http://www.flipkart.com/oren-empower-extra-lar...</td>\n",
       "      <td>Oren Empower Extra Large Self Adhesive Sticker</td>\n",
       "      <td>[\"Baby Care &gt;&gt; Baby &amp; Kids Gifts &gt;&gt; Stickers &gt;...</td>\n",
       "      <td>STIE88ZGTX65GH4V</td>\n",
       "      <td>1399.0</td>\n",
       "      <td>999.0</td>\n",
       "      <td>958f54f4c46b53c8a0a9b8167d9140bc.jpg</td>\n",
       "      <td>False</td>\n",
       "      <td>Oren Empower Extra Large Self Adhesive Sticker...</td>\n",
       "      <td>No rating available</td>\n",
       "      <td>No rating available</td>\n",
       "      <td>Oren Empower</td>\n",
       "      <td>{\"product_specification\"=&gt;[{\"key\"=&gt;\"Number of ...</td>\n",
       "    </tr>\n",
       "    <tr>\n",
       "      <th>1046</th>\n",
       "      <td>fd6cbcc22efb6b761bd564c28928483c</td>\n",
       "      <td>2015-12-01 10:15:43 +0000</td>\n",
       "      <td>http://www.flipkart.com/wallmantra-large-vinyl...</td>\n",
       "      <td>Wallmantra Large Vinyl Sticker Sticker</td>\n",
       "      <td>[\"Baby Care &gt;&gt; Baby &amp; Kids Gifts &gt;&gt; Stickers &gt;...</td>\n",
       "      <td>STIEC889ZD5GDCVQ</td>\n",
       "      <td>4930.0</td>\n",
       "      <td>1896.0</td>\n",
       "      <td>fd6cbcc22efb6b761bd564c28928483c.jpg</td>\n",
       "      <td>False</td>\n",
       "      <td>Wallmantra Large Vinyl Sticker Sticker (Pack o...</td>\n",
       "      <td>No rating available</td>\n",
       "      <td>No rating available</td>\n",
       "      <td>Wallmantra</td>\n",
       "      <td>{\"product_specification\"=&gt;[{\"key\"=&gt;\"Number of ...</td>\n",
       "    </tr>\n",
       "    <tr>\n",
       "      <th>1047</th>\n",
       "      <td>5912e037d12774bb73a2048f35a00009</td>\n",
       "      <td>2015-12-01 10:15:43 +0000</td>\n",
       "      <td>http://www.flipkart.com/uberlyfe-extra-large-p...</td>\n",
       "      <td>Uberlyfe Extra Large Pigmented Polyvinyl Films...</td>\n",
       "      <td>[\"Baby Care &gt;&gt; Baby &amp; Kids Gifts &gt;&gt; Stickers &gt;...</td>\n",
       "      <td>STIE5UVGW2JWVWCT</td>\n",
       "      <td>4500.0</td>\n",
       "      <td>1449.0</td>\n",
       "      <td>5912e037d12774bb73a2048f35a00009.jpg</td>\n",
       "      <td>False</td>\n",
       "      <td>Buy Uberlyfe Extra Large Pigmented Polyvinyl F...</td>\n",
       "      <td>No rating available</td>\n",
       "      <td>No rating available</td>\n",
       "      <td>Uberlyfe</td>\n",
       "      <td>{\"product_specification\"=&gt;[{\"key\"=&gt;\"Number of ...</td>\n",
       "    </tr>\n",
       "    <tr>\n",
       "      <th>1048</th>\n",
       "      <td>c3edc504d1b4f0ba6224fa53a43a7ad6</td>\n",
       "      <td>2015-12-01 10:15:43 +0000</td>\n",
       "      <td>http://www.flipkart.com/wallmantra-medium-viny...</td>\n",
       "      <td>Wallmantra Medium Vinyl Sticker Sticker</td>\n",
       "      <td>[\"Baby Care &gt;&gt; Baby &amp; Kids Gifts &gt;&gt; Stickers &gt;...</td>\n",
       "      <td>STIEC889ZGFD3RCE</td>\n",
       "      <td>3465.0</td>\n",
       "      <td>1333.0</td>\n",
       "      <td>c3edc504d1b4f0ba6224fa53a43a7ad6.jpg</td>\n",
       "      <td>False</td>\n",
       "      <td>Buy Wallmantra Medium Vinyl Sticker Sticker fo...</td>\n",
       "      <td>No rating available</td>\n",
       "      <td>No rating available</td>\n",
       "      <td>Wallmantra</td>\n",
       "      <td>{\"product_specification\"=&gt;[{\"key\"=&gt;\"Number of ...</td>\n",
       "    </tr>\n",
       "    <tr>\n",
       "      <th>1049</th>\n",
       "      <td>f2f027ad6a6df617c9f125173da71e44</td>\n",
       "      <td>2015-12-01 10:15:43 +0000</td>\n",
       "      <td>http://www.flipkart.com/uberlyfe-large-vinyl-s...</td>\n",
       "      <td>Uberlyfe Large Vinyl Sticker</td>\n",
       "      <td>[\"Baby Care &gt;&gt; Baby &amp; Kids Gifts &gt;&gt; Stickers &gt;...</td>\n",
       "      <td>STIE2ZEPACRQJKH7</td>\n",
       "      <td>1190.0</td>\n",
       "      <td>595.0</td>\n",
       "      <td>f2f027ad6a6df617c9f125173da71e44.jpg</td>\n",
       "      <td>False</td>\n",
       "      <td>Buy Uberlyfe Large Vinyl Sticker for Rs.595 on...</td>\n",
       "      <td>4</td>\n",
       "      <td>4</td>\n",
       "      <td>Uberlyfe</td>\n",
       "      <td>{\"product_specification\"=&gt;[{\"key\"=&gt;\"Sales Pack...</td>\n",
       "    </tr>\n",
       "  </tbody>\n",
       "</table>\n",
       "<p>1050 rows × 15 columns</p>\n",
       "</div>"
      ],
      "text/plain": [
       "                               uniq_id            crawl_timestamp  \\\n",
       "0     55b85ea15a1536d46b7190ad6fff8ce7  2016-04-30 03:22:56 +0000   \n",
       "1     7b72c92c2f6c40268628ec5f14c6d590  2016-04-30 03:22:56 +0000   \n",
       "2     64d5d4a258243731dc7bbb1eef49ad74  2016-04-30 03:22:56 +0000   \n",
       "3     d4684dcdc759dd9cdf41504698d737d8  2016-06-20 08:49:52 +0000   \n",
       "4     6325b6870c54cd47be6ebfbffa620ec7  2016-06-20 08:49:52 +0000   \n",
       "...                                ...                        ...   \n",
       "1045  958f54f4c46b53c8a0a9b8167d9140bc  2015-12-01 10:15:43 +0000   \n",
       "1046  fd6cbcc22efb6b761bd564c28928483c  2015-12-01 10:15:43 +0000   \n",
       "1047  5912e037d12774bb73a2048f35a00009  2015-12-01 10:15:43 +0000   \n",
       "1048  c3edc504d1b4f0ba6224fa53a43a7ad6  2015-12-01 10:15:43 +0000   \n",
       "1049  f2f027ad6a6df617c9f125173da71e44  2015-12-01 10:15:43 +0000   \n",
       "\n",
       "                                            product_url  \\\n",
       "0     http://www.flipkart.com/elegance-polyester-mul...   \n",
       "1     http://www.flipkart.com/sathiyas-cotton-bath-t...   \n",
       "2     http://www.flipkart.com/eurospa-cotton-terry-f...   \n",
       "3     http://www.flipkart.com/santosh-royal-fashion-...   \n",
       "4     http://www.flipkart.com/jaipur-print-cotton-fl...   \n",
       "...                                                 ...   \n",
       "1045  http://www.flipkart.com/oren-empower-extra-lar...   \n",
       "1046  http://www.flipkart.com/wallmantra-large-vinyl...   \n",
       "1047  http://www.flipkart.com/uberlyfe-extra-large-p...   \n",
       "1048  http://www.flipkart.com/wallmantra-medium-viny...   \n",
       "1049  http://www.flipkart.com/uberlyfe-large-vinyl-s...   \n",
       "\n",
       "                                           product_name  \\\n",
       "0     Elegance Polyester Multicolor Abstract Eyelet ...   \n",
       "1                            Sathiyas Cotton Bath Towel   \n",
       "2                   Eurospa Cotton Terry Face Towel Set   \n",
       "3     SANTOSH ROYAL FASHION Cotton Printed King size...   \n",
       "4     Jaipur Print Cotton Floral King sized Double B...   \n",
       "...                                                 ...   \n",
       "1045     Oren Empower Extra Large Self Adhesive Sticker   \n",
       "1046             Wallmantra Large Vinyl Sticker Sticker   \n",
       "1047  Uberlyfe Extra Large Pigmented Polyvinyl Films...   \n",
       "1048            Wallmantra Medium Vinyl Sticker Sticker   \n",
       "1049                       Uberlyfe Large Vinyl Sticker   \n",
       "\n",
       "                                  product_category_tree               pid  \\\n",
       "0     [\"Home Furnishing >> Curtains & Accessories >>...  CRNEG7BKMFFYHQ8Z   \n",
       "1     [\"Baby Care >> Baby Bath & Skin >> Baby Bath T...  BTWEGFZHGBXPHZUH   \n",
       "2     [\"Baby Care >> Baby Bath & Skin >> Baby Bath T...  BTWEG6SHXTDB2A2Y   \n",
       "3     [\"Home Furnishing >> Bed Linen >> Bedsheets >>...  BDSEJT9UQWHDUBH4   \n",
       "4     [\"Home Furnishing >> Bed Linen >> Bedsheets >>...  BDSEJTHNGWVGWWQU   \n",
       "...                                                 ...               ...   \n",
       "1045  [\"Baby Care >> Baby & Kids Gifts >> Stickers >...  STIE88ZGTX65GH4V   \n",
       "1046  [\"Baby Care >> Baby & Kids Gifts >> Stickers >...  STIEC889ZD5GDCVQ   \n",
       "1047  [\"Baby Care >> Baby & Kids Gifts >> Stickers >...  STIE5UVGW2JWVWCT   \n",
       "1048  [\"Baby Care >> Baby & Kids Gifts >> Stickers >...  STIEC889ZGFD3RCE   \n",
       "1049  [\"Baby Care >> Baby & Kids Gifts >> Stickers >...  STIE2ZEPACRQJKH7   \n",
       "\n",
       "      retail_price  discounted_price                                 image  \\\n",
       "0           1899.0             899.0  55b85ea15a1536d46b7190ad6fff8ce7.jpg   \n",
       "1            600.0             449.0  7b72c92c2f6c40268628ec5f14c6d590.jpg   \n",
       "2              NaN               NaN  64d5d4a258243731dc7bbb1eef49ad74.jpg   \n",
       "3           2699.0            1299.0  d4684dcdc759dd9cdf41504698d737d8.jpg   \n",
       "4           2599.0             698.0  6325b6870c54cd47be6ebfbffa620ec7.jpg   \n",
       "...            ...               ...                                   ...   \n",
       "1045        1399.0             999.0  958f54f4c46b53c8a0a9b8167d9140bc.jpg   \n",
       "1046        4930.0            1896.0  fd6cbcc22efb6b761bd564c28928483c.jpg   \n",
       "1047        4500.0            1449.0  5912e037d12774bb73a2048f35a00009.jpg   \n",
       "1048        3465.0            1333.0  c3edc504d1b4f0ba6224fa53a43a7ad6.jpg   \n",
       "1049        1190.0             595.0  f2f027ad6a6df617c9f125173da71e44.jpg   \n",
       "\n",
       "      is_FK_Advantage_product  \\\n",
       "0                       False   \n",
       "1                       False   \n",
       "2                       False   \n",
       "3                       False   \n",
       "4                       False   \n",
       "...                       ...   \n",
       "1045                    False   \n",
       "1046                    False   \n",
       "1047                    False   \n",
       "1048                    False   \n",
       "1049                    False   \n",
       "\n",
       "                                            description       product_rating  \\\n",
       "0     Key Features of Elegance Polyester Multicolor ...  No rating available   \n",
       "1     Specifications of Sathiyas Cotton Bath Towel (...  No rating available   \n",
       "2     Key Features of Eurospa Cotton Terry Face Towe...  No rating available   \n",
       "3     Key Features of SANTOSH ROYAL FASHION Cotton P...  No rating available   \n",
       "4     Key Features of Jaipur Print Cotton Floral Kin...  No rating available   \n",
       "...                                                 ...                  ...   \n",
       "1045  Oren Empower Extra Large Self Adhesive Sticker...  No rating available   \n",
       "1046  Wallmantra Large Vinyl Sticker Sticker (Pack o...  No rating available   \n",
       "1047  Buy Uberlyfe Extra Large Pigmented Polyvinyl F...  No rating available   \n",
       "1048  Buy Wallmantra Medium Vinyl Sticker Sticker fo...  No rating available   \n",
       "1049  Buy Uberlyfe Large Vinyl Sticker for Rs.595 on...                    4   \n",
       "\n",
       "           overall_rating                  brand  \\\n",
       "0     No rating available               Elegance   \n",
       "1     No rating available               Sathiyas   \n",
       "2     No rating available                Eurospa   \n",
       "3     No rating available  SANTOSH ROYAL FASHION   \n",
       "4     No rating available           Jaipur Print   \n",
       "...                   ...                    ...   \n",
       "1045  No rating available           Oren Empower   \n",
       "1046  No rating available             Wallmantra   \n",
       "1047  No rating available               Uberlyfe   \n",
       "1048  No rating available             Wallmantra   \n",
       "1049                    4               Uberlyfe   \n",
       "\n",
       "                                 product_specifications  \n",
       "0     {\"product_specification\"=>[{\"key\"=>\"Brand\", \"v...  \n",
       "1     {\"product_specification\"=>[{\"key\"=>\"Machine Wa...  \n",
       "2     {\"product_specification\"=>[{\"key\"=>\"Material\",...  \n",
       "3     {\"product_specification\"=>[{\"key\"=>\"Brand\", \"v...  \n",
       "4     {\"product_specification\"=>[{\"key\"=>\"Machine Wa...  \n",
       "...                                                 ...  \n",
       "1045  {\"product_specification\"=>[{\"key\"=>\"Number of ...  \n",
       "1046  {\"product_specification\"=>[{\"key\"=>\"Number of ...  \n",
       "1047  {\"product_specification\"=>[{\"key\"=>\"Number of ...  \n",
       "1048  {\"product_specification\"=>[{\"key\"=>\"Number of ...  \n",
       "1049  {\"product_specification\"=>[{\"key\"=>\"Sales Pack...  \n",
       "\n",
       "[1050 rows x 15 columns]"
      ]
     },
     "execution_count": 199,
     "metadata": {},
     "output_type": "execute_result"
    }
   ],
   "source": [
    "df = pd.read_csv(\"../Data/Flipkart/flipkart_com-ecommerce_sample_1050.csv\")\n",
    "df"
   ]
  },
  {
   "cell_type": "code",
   "execution_count": 200,
   "metadata": {},
   "outputs": [
    {
     "name": "stdout",
     "output_type": "stream",
     "text": [
      "uniq_id                                     55b85ea15a1536d46b7190ad6fff8ce7\n",
      "crawl_timestamp                                    2016-04-30 03:22:56 +0000\n",
      "product_url                http://www.flipkart.com/elegance-polyester-mul...\n",
      "product_name               Elegance Polyester Multicolor Abstract Eyelet ...\n",
      "product_category_tree      [\"Home Furnishing >> Curtains & Accessories >>...\n",
      "pid                                                         CRNEG7BKMFFYHQ8Z\n",
      "retail_price                                                          1899.0\n",
      "discounted_price                                                       899.0\n",
      "image                                   55b85ea15a1536d46b7190ad6fff8ce7.jpg\n",
      "is_FK_Advantage_product                                                False\n",
      "description                Key Features of Elegance Polyester Multicolor ...\n",
      "product_rating                                           No rating available\n",
      "overall_rating                                           No rating available\n",
      "brand                                                               Elegance\n",
      "product_specifications     {\"product_specification\"=>[{\"key\"=>\"Brand\", \"v...\n",
      "Name: 0, dtype: object\n"
     ]
    }
   ],
   "source": [
    "print(df.iloc[0, :])"
   ]
  },
  {
   "cell_type": "markdown",
   "metadata": {},
   "source": [
    "Nous souhaitons catégoriser les produits suivant la première branche de l'arbre de catégorie de produit `product_category_tree` qui nous servira d'exemple de segmentation de catégorie de produits. Cependant dans la variable, toutes les branches de l'arbre de catégorie sont indiquées."
   ]
  },
  {
   "cell_type": "code",
   "execution_count": 201,
   "metadata": {},
   "outputs": [
    {
     "name": "stdout",
     "output_type": "stream",
     "text": [
      "[\"Home Furnishing >> Curtains & Accessories >> Curtains >> Elegance Polyester Multicolor Abstract Eyelet Do...\"]\n"
     ]
    }
   ],
   "source": [
    "with pd.option_context('display.max_colwidth', None):\n",
    "    print(df.iloc[0, 4])"
   ]
  },
  {
   "cell_type": "markdown",
   "metadata": {},
   "source": [
    "Nous utilisons une expression régulière pour ne garder que la première branche de l'arbre de catégorie.  \n",
    "\n",
    "L'expression régulière `r'>.*'` permet de supprimer le caractère `>` ainsi que tout ce qui suit.  \n",
    "`.str[2:]` et `.str[:-1]` permettent de supprimer les deux premiers caractère `[` et `\"` et l'espace avant le caractère `>`."
   ]
  },
  {
   "cell_type": "code",
   "execution_count": 202,
   "metadata": {},
   "outputs": [],
   "source": [
    "import re\n",
    "df['product_category_tree'] = df['product_category_tree'].apply(lambda x: re.sub(r'>.*', '', x))\n",
    "df['product_category_tree'] = df['product_category_tree'].str[2:]\n",
    "df['product_category_tree'] = df['product_category_tree'].str[:-1]"
   ]
  },
  {
   "cell_type": "markdown",
   "metadata": {},
   "source": [
    "Nous pouvons compter 7 catégories de produits différentes."
   ]
  },
  {
   "cell_type": "code",
   "execution_count": 203,
   "metadata": {},
   "outputs": [
    {
     "data": {
      "text/plain": [
       "array(['Home Furnishing', 'Baby Care', 'Watches',\n",
       "       'Home Decor & Festive Needs', 'Kitchen & Dining',\n",
       "       'Beauty and Personal Care', 'Computers'], dtype=object)"
      ]
     },
     "execution_count": 203,
     "metadata": {},
     "output_type": "execute_result"
    }
   ],
   "source": [
    "df['product_category_tree'].unique()"
   ]
  },
  {
   "cell_type": "markdown",
   "metadata": {},
   "source": [
    "Pour simplifier notre travail d'analyse nous ne gardons que les variables pertinentes à notre étude :\n",
    "- `product_name`\n",
    "- `product_category_tree`\n",
    "- `description`"
   ]
  },
  {
   "cell_type": "code",
   "execution_count": 204,
   "metadata": {},
   "outputs": [],
   "source": [
    "df_word = []\n",
    "df_word = pd.DataFrame(df_word)\n",
    "df_word['product_name'] = df['product_name'].copy()\n",
    "df_word['product_category_tree'] = df['product_category_tree'].copy()\n",
    "df_word['description'] = df['description'].copy()"
   ]
  },
  {
   "cell_type": "markdown",
   "metadata": {},
   "source": [
    "Pour commencer notre travail de nettoyage nous commençons par décomposer la description de chaque produit en tableaux de mots afin de pouvoir effectuer des opérations dessus. Nous effetuons également une supression de la ponctuation qui ne sera pas prise en compte dans notre tableau de mots."
   ]
  },
  {
   "cell_type": "code",
   "execution_count": 205,
   "metadata": {},
   "outputs": [],
   "source": [
    "df_word['description_token'] = 0"
   ]
  },
  {
   "cell_type": "code",
   "execution_count": 206,
   "metadata": {},
   "outputs": [],
   "source": [
    "import nltk\n",
    "\n",
    "tokenizer = nltk.RegexpTokenizer(r'\\w+')\n",
    "\n",
    "i = 0\n",
    "while i < len(df_word['description']):\n",
    "    df_word['description_token'][i] = tokenizer.tokenize(df_word['description'][i])\n",
    "    i+=1"
   ]
  },
  {
   "cell_type": "markdown",
   "metadata": {},
   "source": [
    "Nous transformons chaque mot de sorte qu'ils soient tous en minuscule pour que la sensibilité à la casse des librairies n'impacte pas les opérations sur chacun des mots."
   ]
  },
  {
   "cell_type": "code",
   "execution_count": 207,
   "metadata": {},
   "outputs": [],
   "source": [
    "i = 0\n",
    "while i < len(df_word['description_token']):\n",
    "    for j in range(len(df_word['description_token'][i])):\n",
    "        df_word['description_token'][i][j] = df_word['description_token'][i][j].lower()\n",
    "    i+=1"
   ]
  },
  {
   "cell_type": "markdown",
   "metadata": {},
   "source": [
    "Nous passons ensuite à la suppression des `stopword`, ce sont les mots très courant de la langue étudiée (of, the, and ...), ces mots n'apportent pas de valeur informative pour la compréhension de la description des produits."
   ]
  },
  {
   "cell_type": "code",
   "execution_count": 208,
   "metadata": {},
   "outputs": [
    {
     "name": "stderr",
     "output_type": "stream",
     "text": [
      "[nltk_data] Downloading package stopwords to\n",
      "[nltk_data]     /Users/gaeldelescluse/nltk_data...\n",
      "[nltk_data]   Package stopwords is already up-to-date!\n"
     ]
    },
    {
     "data": {
      "text/plain": [
       "True"
      ]
     },
     "execution_count": 208,
     "metadata": {},
     "output_type": "execute_result"
    }
   ],
   "source": [
    "import nltk\n",
    "from nltk.corpus import stopwords\n",
    "\n",
    "nltk.download('stopwords')"
   ]
  },
  {
   "cell_type": "code",
   "execution_count": 209,
   "metadata": {},
   "outputs": [],
   "source": [
    "def remove_stopwords(word_list):\n",
    "    stop_words = set(stopwords.words('english'))\n",
    "    filtered_words = []\n",
    "    for word in word_list:\n",
    "        if word not in stop_words:\n",
    "            filtered_words.append(word)\n",
    "    return filtered_words"
   ]
  },
  {
   "cell_type": "code",
   "execution_count": 210,
   "metadata": {},
   "outputs": [],
   "source": [
    "for i in range(len(df_word['description_token'])):\n",
    "    df_word['description_token'][i] = remove_stopwords(df_word['description_token'][i])"
   ]
  },
  {
   "cell_type": "markdown",
   "metadata": {},
   "source": [
    "Nous représentons ensuite les mots dans leur forme cannonique par un processus de lemmatisation, nous souhaitons conserver le sens des mots dans leur forme la plus simple en supprimant les pluriels ou encore l'infinitif des verbes."
   ]
  },
  {
   "cell_type": "code",
   "execution_count": 211,
   "metadata": {},
   "outputs": [
    {
     "name": "stderr",
     "output_type": "stream",
     "text": [
      "[nltk_data] Downloading package punkt to\n",
      "[nltk_data]     /Users/gaeldelescluse/nltk_data...\n",
      "[nltk_data]   Package punkt is already up-to-date!\n",
      "[nltk_data] Downloading package averaged_perceptron_tagger to\n",
      "[nltk_data]     /Users/gaeldelescluse/nltk_data...\n",
      "[nltk_data]   Package averaged_perceptron_tagger is already up-to-\n",
      "[nltk_data]       date!\n",
      "[nltk_data] Downloading package wordnet to\n",
      "[nltk_data]     /Users/gaeldelescluse/nltk_data...\n",
      "[nltk_data]   Package wordnet is already up-to-date!\n"
     ]
    },
    {
     "data": {
      "text/plain": [
       "True"
      ]
     },
     "execution_count": 211,
     "metadata": {},
     "output_type": "execute_result"
    }
   ],
   "source": [
    "import nltk\n",
    "from nltk.stem import WordNetLemmatizer\n",
    "from nltk.corpus import wordnet\n",
    "\n",
    "nltk.download('punkt')# segmentation phrases\n",
    "nltk.download('averaged_perceptron_tagger') # étiquettes grammaticales\n",
    "nltk.download('wordnet')# synonymes"
   ]
  },
  {
   "cell_type": "code",
   "execution_count": 212,
   "metadata": {},
   "outputs": [],
   "source": [
    "def lemmatize_words(word_list):\n",
    "    lemmatizer = WordNetLemmatizer()\n",
    "    lemmatized_words = [lemmatizer.lemmatize(word, get_pos(word)) for word in word_list]\n",
    "    return lemmatized_words\n",
    "\n",
    "def get_pos(word):\n",
    "    tag = nltk.pos_tag([word])[0][1][0].upper()\n",
    "    tag_dict = {\"N\": wordnet.NOUN, \"V\": wordnet.VERB, \"R\": wordnet.ADV, \"J\": wordnet.ADJ}\n",
    "    return tag_dict.get(tag, wordnet.NOUN)"
   ]
  },
  {
   "cell_type": "code",
   "execution_count": 213,
   "metadata": {},
   "outputs": [],
   "source": [
    "for i in range(len(df_word['description_token'])):\n",
    "    df_word['description_token'][i] = lemmatize_words(df_word['description_token'][i])"
   ]
  },
  {
   "cell_type": "markdown",
   "metadata": {},
   "source": [
    "Nous enregistrons le fichier normalisé pour réaliser différentes opération dans d'autres fichiers."
   ]
  },
  {
   "cell_type": "code",
   "execution_count": 214,
   "metadata": {},
   "outputs": [],
   "source": [
    "word_dataset = '../Data/1.normalized_dataset.csv'\n",
    "df_word.to_csv(word_dataset, index=False)"
   ]
  },
  {
   "cell_type": "code",
   "execution_count": 215,
   "metadata": {},
   "outputs": [],
   "source": [
    "df = pd.read_csv(\"../Data/1.normalized_dataset.csv\",)"
   ]
  },
  {
   "cell_type": "markdown",
   "metadata": {},
   "source": [
    "Nous terminons par éliminer toutes les valeurs numériques qui se sont glissées dans les différentes descriptions de produits."
   ]
  },
  {
   "cell_type": "code",
   "execution_count": 216,
   "metadata": {},
   "outputs": [],
   "source": [
    "import ast\n",
    "import re\n",
    "\n",
    "array_list = df['description_token'].values\n",
    "data_list = []\n",
    "for item in array_list:\n",
    "    data_list.append(ast.literal_eval(item))\n",
    "\n",
    "result = []\n",
    "for lists in data_list:\n",
    "    new_list = []\n",
    "    for value in lists:\n",
    "        new_value = re.sub(r'\\d', '', value)\n",
    "        new_list.append(new_value)\n",
    "    result.append(new_list)\n",
    "\n",
    "df_list = pd.DataFrame({'description_token': result})\n",
    "df = df.drop(columns=['description_token'])\n",
    "df['description_token'] = df_list['description_token']"
   ]
  },
  {
   "cell_type": "code",
   "execution_count": 217,
   "metadata": {},
   "outputs": [],
   "source": [
    "df['words'] = df['description_token'].apply(lambda x: ' '.join(x))"
   ]
  },
  {
   "cell_type": "code",
   "execution_count": 218,
   "metadata": {},
   "outputs": [
    {
     "data": {
      "text/html": [
       "<div>\n",
       "<style scoped>\n",
       "    .dataframe tbody tr th:only-of-type {\n",
       "        vertical-align: middle;\n",
       "    }\n",
       "\n",
       "    .dataframe tbody tr th {\n",
       "        vertical-align: top;\n",
       "    }\n",
       "\n",
       "    .dataframe thead th {\n",
       "        text-align: right;\n",
       "    }\n",
       "</style>\n",
       "<table border=\"1\" class=\"dataframe\">\n",
       "  <thead>\n",
       "    <tr style=\"text-align: right;\">\n",
       "      <th></th>\n",
       "      <th>product_name</th>\n",
       "      <th>product_category_tree</th>\n",
       "      <th>description</th>\n",
       "      <th>description_token</th>\n",
       "      <th>words</th>\n",
       "    </tr>\n",
       "  </thead>\n",
       "  <tbody>\n",
       "    <tr>\n",
       "      <th>0</th>\n",
       "      <td>Elegance Polyester Multicolor Abstract Eyelet ...</td>\n",
       "      <td>Home Furnishing</td>\n",
       "      <td>Key Features of Elegance Polyester Multicolor ...</td>\n",
       "      <td>[key, feature, elegance, polyester, multicolor...</td>\n",
       "      <td>key feature elegance polyester multicolor abst...</td>\n",
       "    </tr>\n",
       "    <tr>\n",
       "      <th>1</th>\n",
       "      <td>Sathiyas Cotton Bath Towel</td>\n",
       "      <td>Baby Care</td>\n",
       "      <td>Specifications of Sathiyas Cotton Bath Towel (...</td>\n",
       "      <td>[specification, sathiyas, cotton, bath, towel,...</td>\n",
       "      <td>specification sathiyas cotton bath towel  bath...</td>\n",
       "    </tr>\n",
       "    <tr>\n",
       "      <th>2</th>\n",
       "      <td>Eurospa Cotton Terry Face Towel Set</td>\n",
       "      <td>Baby Care</td>\n",
       "      <td>Key Features of Eurospa Cotton Terry Face Towe...</td>\n",
       "      <td>[key, feature, eurospa, cotton, terry, face, t...</td>\n",
       "      <td>key feature eurospa cotton terry face towel se...</td>\n",
       "    </tr>\n",
       "    <tr>\n",
       "      <th>3</th>\n",
       "      <td>SANTOSH ROYAL FASHION Cotton Printed King size...</td>\n",
       "      <td>Home Furnishing</td>\n",
       "      <td>Key Features of SANTOSH ROYAL FASHION Cotton P...</td>\n",
       "      <td>[key, feature, santosh, royal, fashion, cotton...</td>\n",
       "      <td>key feature santosh royal fashion cotton print...</td>\n",
       "    </tr>\n",
       "    <tr>\n",
       "      <th>4</th>\n",
       "      <td>Jaipur Print Cotton Floral King sized Double B...</td>\n",
       "      <td>Home Furnishing</td>\n",
       "      <td>Key Features of Jaipur Print Cotton Floral Kin...</td>\n",
       "      <td>[key, feature, jaipur, print, cotton, floral, ...</td>\n",
       "      <td>key feature jaipur print cotton floral king si...</td>\n",
       "    </tr>\n",
       "    <tr>\n",
       "      <th>...</th>\n",
       "      <td>...</td>\n",
       "      <td>...</td>\n",
       "      <td>...</td>\n",
       "      <td>...</td>\n",
       "      <td>...</td>\n",
       "    </tr>\n",
       "    <tr>\n",
       "      <th>1045</th>\n",
       "      <td>Oren Empower Extra Large Self Adhesive Sticker</td>\n",
       "      <td>Baby Care</td>\n",
       "      <td>Oren Empower Extra Large Self Adhesive Sticker...</td>\n",
       "      <td>[oren, empower, extra, large, self, adhesive, ...</td>\n",
       "      <td>oren empower extra large self adhesive sticker...</td>\n",
       "    </tr>\n",
       "    <tr>\n",
       "      <th>1046</th>\n",
       "      <td>Wallmantra Large Vinyl Sticker Sticker</td>\n",
       "      <td>Baby Care</td>\n",
       "      <td>Wallmantra Large Vinyl Sticker Sticker (Pack o...</td>\n",
       "      <td>[wallmantra, large, vinyl, sticker, sticker, p...</td>\n",
       "      <td>wallmantra large vinyl sticker sticker pack  p...</td>\n",
       "    </tr>\n",
       "    <tr>\n",
       "      <th>1047</th>\n",
       "      <td>Uberlyfe Extra Large Pigmented Polyvinyl Films...</td>\n",
       "      <td>Baby Care</td>\n",
       "      <td>Buy Uberlyfe Extra Large Pigmented Polyvinyl F...</td>\n",
       "      <td>[buy, uberlyfe, extra, large, pigment, polyvin...</td>\n",
       "      <td>buy uberlyfe extra large pigment polyvinyl fil...</td>\n",
       "    </tr>\n",
       "    <tr>\n",
       "      <th>1048</th>\n",
       "      <td>Wallmantra Medium Vinyl Sticker Sticker</td>\n",
       "      <td>Baby Care</td>\n",
       "      <td>Buy Wallmantra Medium Vinyl Sticker Sticker fo...</td>\n",
       "      <td>[buy, wallmantra, medium, vinyl, sticker, stic...</td>\n",
       "      <td>buy wallmantra medium vinyl sticker sticker r ...</td>\n",
       "    </tr>\n",
       "    <tr>\n",
       "      <th>1049</th>\n",
       "      <td>Uberlyfe Large Vinyl Sticker</td>\n",
       "      <td>Baby Care</td>\n",
       "      <td>Buy Uberlyfe Large Vinyl Sticker for Rs.595 on...</td>\n",
       "      <td>[buy, uberlyfe, large, vinyl, sticker, r, , on...</td>\n",
       "      <td>buy uberlyfe large vinyl sticker r  online ube...</td>\n",
       "    </tr>\n",
       "  </tbody>\n",
       "</table>\n",
       "<p>1050 rows × 5 columns</p>\n",
       "</div>"
      ],
      "text/plain": [
       "                                           product_name product_category_tree  \\\n",
       "0     Elegance Polyester Multicolor Abstract Eyelet ...       Home Furnishing   \n",
       "1                            Sathiyas Cotton Bath Towel             Baby Care   \n",
       "2                   Eurospa Cotton Terry Face Towel Set             Baby Care   \n",
       "3     SANTOSH ROYAL FASHION Cotton Printed King size...       Home Furnishing   \n",
       "4     Jaipur Print Cotton Floral King sized Double B...       Home Furnishing   \n",
       "...                                                 ...                   ...   \n",
       "1045     Oren Empower Extra Large Self Adhesive Sticker             Baby Care   \n",
       "1046             Wallmantra Large Vinyl Sticker Sticker             Baby Care   \n",
       "1047  Uberlyfe Extra Large Pigmented Polyvinyl Films...             Baby Care   \n",
       "1048            Wallmantra Medium Vinyl Sticker Sticker             Baby Care   \n",
       "1049                       Uberlyfe Large Vinyl Sticker             Baby Care   \n",
       "\n",
       "                                            description  \\\n",
       "0     Key Features of Elegance Polyester Multicolor ...   \n",
       "1     Specifications of Sathiyas Cotton Bath Towel (...   \n",
       "2     Key Features of Eurospa Cotton Terry Face Towe...   \n",
       "3     Key Features of SANTOSH ROYAL FASHION Cotton P...   \n",
       "4     Key Features of Jaipur Print Cotton Floral Kin...   \n",
       "...                                                 ...   \n",
       "1045  Oren Empower Extra Large Self Adhesive Sticker...   \n",
       "1046  Wallmantra Large Vinyl Sticker Sticker (Pack o...   \n",
       "1047  Buy Uberlyfe Extra Large Pigmented Polyvinyl F...   \n",
       "1048  Buy Wallmantra Medium Vinyl Sticker Sticker fo...   \n",
       "1049  Buy Uberlyfe Large Vinyl Sticker for Rs.595 on...   \n",
       "\n",
       "                                      description_token  \\\n",
       "0     [key, feature, elegance, polyester, multicolor...   \n",
       "1     [specification, sathiyas, cotton, bath, towel,...   \n",
       "2     [key, feature, eurospa, cotton, terry, face, t...   \n",
       "3     [key, feature, santosh, royal, fashion, cotton...   \n",
       "4     [key, feature, jaipur, print, cotton, floral, ...   \n",
       "...                                                 ...   \n",
       "1045  [oren, empower, extra, large, self, adhesive, ...   \n",
       "1046  [wallmantra, large, vinyl, sticker, sticker, p...   \n",
       "1047  [buy, uberlyfe, extra, large, pigment, polyvin...   \n",
       "1048  [buy, wallmantra, medium, vinyl, sticker, stic...   \n",
       "1049  [buy, uberlyfe, large, vinyl, sticker, r, , on...   \n",
       "\n",
       "                                                  words  \n",
       "0     key feature elegance polyester multicolor abst...  \n",
       "1     specification sathiyas cotton bath towel  bath...  \n",
       "2     key feature eurospa cotton terry face towel se...  \n",
       "3     key feature santosh royal fashion cotton print...  \n",
       "4     key feature jaipur print cotton floral king si...  \n",
       "...                                                 ...  \n",
       "1045  oren empower extra large self adhesive sticker...  \n",
       "1046  wallmantra large vinyl sticker sticker pack  p...  \n",
       "1047  buy uberlyfe extra large pigment polyvinyl fil...  \n",
       "1048  buy wallmantra medium vinyl sticker sticker r ...  \n",
       "1049  buy uberlyfe large vinyl sticker r  online ube...  \n",
       "\n",
       "[1050 rows x 5 columns]"
      ]
     },
     "execution_count": 218,
     "metadata": {},
     "output_type": "execute_result"
    }
   ],
   "source": [
    "df"
   ]
  },
  {
   "cell_type": "code",
   "execution_count": 219,
   "metadata": {},
   "outputs": [],
   "source": [
    "#dataset = '../Data/1.normalized_dataset_completed.csv'\n",
    "#df.to_csv(dataset, index=False)"
   ]
  },
  {
   "cell_type": "markdown",
   "metadata": {},
   "source": [
    "Nous pouvons effectuer une analyse exploratoire de la fréquence d'apparition des mots dans les différentes descriptions de produits en effectuant un comptage de chaque mot."
   ]
  },
  {
   "cell_type": "code",
   "execution_count": 220,
   "metadata": {},
   "outputs": [],
   "source": [
    "from sklearn.feature_extraction.text import CountVectorizer\n",
    "\n",
    "vectorizer = CountVectorizer()\n",
    "X = vectorizer.fit_transform(df['words'])\n",
    "\n",
    "df_word_count = pd.DataFrame(X.toarray(), columns=vectorizer.get_feature_names_out())"
   ]
  },
  {
   "cell_type": "code",
   "execution_count": 221,
   "metadata": {},
   "outputs": [],
   "source": [
    "sum_row = df_word_count.sum()\n",
    "df_word_count.loc['Total'] = sum_row"
   ]
  },
  {
   "cell_type": "code",
   "execution_count": 222,
   "metadata": {},
   "outputs": [
    {
     "data": {
      "text/plain": [
       "product          864\n",
       "free             618\n",
       "buy              581\n",
       "cm               577\n",
       "delivery         567\n",
       "cash             564\n",
       "genuine          564\n",
       "shipping         564\n",
       "price            561\n",
       "replacement      559\n",
       "day              553\n",
       "flipkart         481\n",
       "com              473\n",
       "guarantee        471\n",
       "mug              457\n",
       "feature          408\n",
       "online           396\n",
       "specification    379\n",
       "color            375\n",
       "design           374\n",
       "Name: Total, dtype: int64"
      ]
     },
     "execution_count": 222,
     "metadata": {},
     "output_type": "execute_result"
    }
   ],
   "source": [
    "max_values = df_word_count.loc['Total'].nlargest(20)\n",
    "max_values"
   ]
  },
  {
   "cell_type": "code",
   "execution_count": 223,
   "metadata": {},
   "outputs": [
    {
     "data": {
      "text/plain": [
       "_blk            1\n",
       "aaa             1\n",
       "aarika          1\n",
       "abrasion        1\n",
       "absolute        1\n",
       "absorber        1\n",
       "absorbs         1\n",
       "abstrcts        1\n",
       "accommodate     1\n",
       "accomplishes    1\n",
       "acer            1\n",
       "acl             1\n",
       "acu             1\n",
       "addiction       1\n",
       "additionally    1\n",
       "adino           1\n",
       "advisable       1\n",
       "agarwood        1\n",
       "ageless         1\n",
       "agrees          1\n",
       "Name: Total, dtype: int64"
      ]
     },
     "execution_count": 223,
     "metadata": {},
     "output_type": "execute_result"
    }
   ],
   "source": [
    "min_values = df_word_count.loc['Total'].nsmallest(20)\n",
    "min_values"
   ]
  },
  {
   "cell_type": "code",
   "execution_count": 224,
   "metadata": {},
   "outputs": [],
   "source": [
    "words = ' '.join(df['words'].astype(str))\n",
    "special_words = re.findall(r'\\b\\w*_\\w*\\b', words)"
   ]
  },
  {
   "cell_type": "code",
   "execution_count": 225,
   "metadata": {},
   "outputs": [
    {
     "name": "stdout",
     "output_type": "stream",
     "text": [
      "                                col\n",
      "0         megnet_led_sport_blackred\n",
      "1         megnet_led_sport_blackred\n",
      "2         megnet_led_sport_blackred\n",
      "3                              _blk\n",
      "4                     apl_led_black\n",
      "5                     apl_led_black\n",
      "6                     apl_led_black\n",
      "7                            gm_wht\n",
      "8                            gm_wht\n",
      "9                            gm_wht\n",
      "10                       bathmat_ri\n",
      "11                           quilt_\n",
      "12                           quilt_\n",
      "13                         ggld_blk\n",
      "14                          ggld_pl\n",
      "15                hand_juicer_combo\n",
      "16                              n_c\n",
      "17                     he_bed_king_\n",
      "18                          btp_yxk\n",
      "19                           btp_xn\n",
      "20                           times_\n",
      "21                              nx_\n",
      "22                              nx_\n",
      "23                              nx_\n",
      "24                              sd_\n",
      "25                              sd_\n",
      "26                              sd_\n",
      "27                               _g\n",
      "28                               _g\n",
      "29                               _g\n",
      "30                               _w\n",
      "31                               _w\n",
      "32                               _w\n",
      "33                              n_b\n",
      "34                              n_b\n",
      "35                              n_b\n",
      "36                           times_\n",
      "37                           times_\n",
      "38                           times_\n",
      "39                              n_b\n",
      "40                              n_b\n",
      "41                              n_b\n",
      "42                                _\n",
      "43                                _\n",
      "44                                _\n",
      "45                              vc_\n",
      "46                              vc_\n",
      "47                              vc_\n",
      "48                    green_cactus_\n",
      "49                 abkl_grn_grn_grn\n",
      "50                 abkl_grn_grn_grn\n",
      "51                 abkl_grn_grn_grn\n",
      "52                  abkl_pl_pnk_pnk\n",
      "53                  abkl_pl_pnk_pnk\n",
      "54                  abkl_pl_pnk_pnk\n",
      "55                   abkl_pl_pl_pnk\n",
      "56                   abkl_pl_pl_pnk\n",
      "57                   abkl_pl_pl_pnk\n",
      "58                            figh_\n",
      "59                            figh_\n",
      "60                            figh_\n",
      "61                            nwdb_\n",
      "62                         laptops_\n",
      "63                         laptops_\n",
      "64                              ig_\n",
      "65                            m_jug\n",
      "66                            m_jug\n",
      "67                            m_jug\n",
      "68                            m_jug\n",
      "69                            m_jug\n",
      "70  painting_art_couple_love__dance\n",
      "71  painting_art_couple_love__dance\n",
      "72  painting_art_couple_love__dance\n",
      "73     dlst_white_tblue_navy_purple\n",
      "74                      kgt_printed\n",
      "75                         dlst_red\n",
      "76                     suitable_for\n",
      "77                     suitable_for\n",
      "78                     suitable_for\n",
      "79                     suitable_for\n",
      "80                     suitable_for\n",
      "81                     suitable_for\n",
      "82                     suitable_for\n",
      "83                     suitable_for\n",
      "84                     suitable_for\n",
      "85                     suitable_for\n",
      "86                     suitable_for\n"
     ]
    }
   ],
   "source": [
    "df_ = pd.DataFrame({'col' : special_words})\n",
    "with pd.option_context('display.max_rows', None):\n",
    "    print(df_)"
   ]
  },
  {
   "cell_type": "code",
   "execution_count": 226,
   "metadata": {},
   "outputs": [],
   "source": [
    "for i in df_['col']:\n",
    "    df['words'] = df['words'].str.replace(i, '')"
   ]
  },
  {
   "cell_type": "code",
   "execution_count": 228,
   "metadata": {},
   "outputs": [],
   "source": [
    "for i in df_word_count.loc['Total'][df_word_count.loc['Total'] == 1].index:\n",
    "    df['words'] = df['words'].str.replace(i, '')\n"
   ]
  },
  {
   "cell_type": "code",
   "execution_count": 229,
   "metadata": {},
   "outputs": [],
   "source": [
    "dataset = '../Data/1.normalized_dataset_max.csv'\n",
    "df.to_csv(dataset, index=False)"
   ]
  },
  {
   "cell_type": "code",
   "execution_count": null,
   "metadata": {},
   "outputs": [],
   "source": []
  }
 ],
 "metadata": {
  "kernelspec": {
   "display_name": "Projet6Env",
   "language": "python",
   "name": "python3"
  },
  "language_info": {
   "codemirror_mode": {
    "name": "ipython",
    "version": 3
   },
   "file_extension": ".py",
   "mimetype": "text/x-python",
   "name": "python",
   "nbconvert_exporter": "python",
   "pygments_lexer": "ipython3",
   "version": "3.10.9"
  }
 },
 "nbformat": 4,
 "nbformat_minor": 2
}
