{
 "cells": [
  {
   "cell_type": "code",
   "execution_count": 1,
   "metadata": {},
   "outputs": [
    {
     "name": "stderr",
     "output_type": "stream",
     "text": [
      "2024-01-09 09:13:55.512743: I tensorflow/core/platform/cpu_feature_guard.cc:182] This TensorFlow binary is optimized to use available CPU instructions in performance-critical operations.\n",
      "To enable the following instructions: AVX2 FMA, in other operations, rebuild TensorFlow with the appropriate compiler flags.\n"
     ]
    }
   ],
   "source": [
    "# manipulation des données\n",
    "import numpy as np\n",
    "import pandas as pd\n",
    "\n",
    "# matplotlib et seaborn pour les représentations graphiques\n",
    "import matplotlib.pyplot as plt\n",
    "import seaborn as sns\n",
    "import missingno as msno\n",
    "\n",
    "from sklearn.model_selection import train_test_split\n",
    "from keras.applications.vgg16 import VGG16, preprocess_input\n",
    "from keras.models import Sequential\n",
    "from keras.layers import Dense, Flatten\n",
    "from keras.utils import to_categorical\n",
    "\n",
    "# Gestion du système de fichiers\n",
    "import os\n",
    "from os import listdir\n",
    "\n",
    "# Suppression des alertes\n",
    "import warnings\n",
    "warnings.filterwarnings('ignore')"
   ]
  },
  {
   "cell_type": "code",
   "execution_count": 2,
   "metadata": {},
   "outputs": [],
   "source": [
    "import tensorflow as tf\n",
    "from tensorflow.keras.preprocessing.image import ImageDataGenerator\n",
    "from tensorflow.keras.layers import GlobalAveragePooling2D, GlobalAveragePooling1D, Flatten, Dense, Dropout \n",
    "from tensorflow.keras.models import Model, Sequential\n",
    "from tensorflow.keras.callbacks import EarlyStopping, ModelCheckpoint\n",
    "from tensorflow.keras.applications.vgg16 import preprocess_input"
   ]
  },
  {
   "cell_type": "code",
   "execution_count": 3,
   "metadata": {},
   "outputs": [],
   "source": [
    "from sklearn.model_selection import train_test_split\n",
    "from sklearn.metrics import accuracy_score, auc, roc_auc_score, roc_curve\n",
    "from glob import glob\n",
    "\n",
    "import tensorflow as tf\n",
    "from tensorflow.keras.models import Model, Sequential\n",
    "from tensorflow.keras.layers import GlobalAveragePooling2D, GlobalAveragePooling1D, Flatten, Dense, Dropout \n",
    "from tensorflow.keras.layers import Rescaling, RandomFlip, RandomRotation, RandomZoom\n",
    "from tensorflow.keras.callbacks import EarlyStopping, ModelCheckpoint\n",
    "from tensorflow.keras.applications.vgg16 import VGG16\n",
    "from tensorflow.keras.applications.vgg16 import preprocess_input\n",
    "from tensorflow.keras.preprocessing.image import load_img, img_to_array\n",
    "from tensorflow.keras.utils import to_categorical"
   ]
  },
  {
   "cell_type": "code",
   "execution_count": 36,
   "metadata": {},
   "outputs": [
    {
     "data": {
      "text/html": [
       "<div>\n",
       "<style scoped>\n",
       "    .dataframe tbody tr th:only-of-type {\n",
       "        vertical-align: middle;\n",
       "    }\n",
       "\n",
       "    .dataframe tbody tr th {\n",
       "        vertical-align: top;\n",
       "    }\n",
       "\n",
       "    .dataframe thead th {\n",
       "        text-align: right;\n",
       "    }\n",
       "</style>\n",
       "<table border=\"1\" class=\"dataframe\">\n",
       "  <thead>\n",
       "    <tr style=\"text-align: right;\">\n",
       "      <th></th>\n",
       "      <th>image_path</th>\n",
       "      <th>product_category_tree</th>\n",
       "      <th>label</th>\n",
       "    </tr>\n",
       "  </thead>\n",
       "  <tbody>\n",
       "    <tr>\n",
       "      <th>0</th>\n",
       "      <td>aa68675f50a0551b8dadb954017a50a1.jpg</td>\n",
       "      <td>Kitchen &amp; Dining</td>\n",
       "      <td>5</td>\n",
       "    </tr>\n",
       "    <tr>\n",
       "      <th>1</th>\n",
       "      <td>037c2402fee39fbc80433935711d1383.jpg</td>\n",
       "      <td>Home Furnishing</td>\n",
       "      <td>4</td>\n",
       "    </tr>\n",
       "    <tr>\n",
       "      <th>2</th>\n",
       "      <td>42643c1c9403f67921a18654bcf45ead.jpg</td>\n",
       "      <td>Baby Care</td>\n",
       "      <td>0</td>\n",
       "    </tr>\n",
       "    <tr>\n",
       "      <th>3</th>\n",
       "      <td>53f4bc7d7321f5c41de6b86e41f13e80.jpg</td>\n",
       "      <td>Home Decor &amp; Festive Needs</td>\n",
       "      <td>3</td>\n",
       "    </tr>\n",
       "    <tr>\n",
       "      <th>4</th>\n",
       "      <td>b144a363c107c7bdd91f32d6e28ba6f2.jpg</td>\n",
       "      <td>Watches</td>\n",
       "      <td>6</td>\n",
       "    </tr>\n",
       "    <tr>\n",
       "      <th>...</th>\n",
       "      <td>...</td>\n",
       "      <td>...</td>\n",
       "      <td>...</td>\n",
       "    </tr>\n",
       "    <tr>\n",
       "      <th>1045</th>\n",
       "      <td>4e5ebfc871992e7e22365c0c036a1b89.jpg</td>\n",
       "      <td>Baby Care</td>\n",
       "      <td>0</td>\n",
       "    </tr>\n",
       "    <tr>\n",
       "      <th>1046</th>\n",
       "      <td>82fbc93cd45ab747e7e606f2c52c7335.jpg</td>\n",
       "      <td>Home Decor &amp; Festive Needs</td>\n",
       "      <td>3</td>\n",
       "    </tr>\n",
       "    <tr>\n",
       "      <th>1047</th>\n",
       "      <td>216c6c3527984be3d7ad9023d5cd9bd1.jpg</td>\n",
       "      <td>Home Decor &amp; Festive Needs</td>\n",
       "      <td>3</td>\n",
       "    </tr>\n",
       "    <tr>\n",
       "      <th>1048</th>\n",
       "      <td>f54d0c5cbd8e2270742293edf9075cb1.jpg</td>\n",
       "      <td>Home Furnishing</td>\n",
       "      <td>4</td>\n",
       "    </tr>\n",
       "    <tr>\n",
       "      <th>1049</th>\n",
       "      <td>1738ddb8f47f11ff0cb96fe6cad302c2.jpg</td>\n",
       "      <td>Home Decor &amp; Festive Needs</td>\n",
       "      <td>3</td>\n",
       "    </tr>\n",
       "  </tbody>\n",
       "</table>\n",
       "<p>1050 rows × 3 columns</p>\n",
       "</div>"
      ],
      "text/plain": [
       "                                image_path       product_category_tree  label\n",
       "0     aa68675f50a0551b8dadb954017a50a1.jpg            Kitchen & Dining      5\n",
       "1     037c2402fee39fbc80433935711d1383.jpg             Home Furnishing      4\n",
       "2     42643c1c9403f67921a18654bcf45ead.jpg                   Baby Care      0\n",
       "3     53f4bc7d7321f5c41de6b86e41f13e80.jpg  Home Decor & Festive Needs      3\n",
       "4     b144a363c107c7bdd91f32d6e28ba6f2.jpg                     Watches      6\n",
       "...                                    ...                         ...    ...\n",
       "1045  4e5ebfc871992e7e22365c0c036a1b89.jpg                   Baby Care      0\n",
       "1046  82fbc93cd45ab747e7e606f2c52c7335.jpg  Home Decor & Festive Needs      3\n",
       "1047  216c6c3527984be3d7ad9023d5cd9bd1.jpg  Home Decor & Festive Needs      3\n",
       "1048  f54d0c5cbd8e2270742293edf9075cb1.jpg             Home Furnishing      4\n",
       "1049  1738ddb8f47f11ff0cb96fe6cad302c2.jpg  Home Decor & Festive Needs      3\n",
       "\n",
       "[1050 rows x 3 columns]"
      ]
     },
     "execution_count": 36,
     "metadata": {},
     "output_type": "execute_result"
    }
   ],
   "source": [
    "df = pd.read_csv('../Data/3.normalized_dataset_image.csv')\n",
    "path = '../Data/AugmentedImages/'\n",
    "df"
   ]
  },
  {
   "cell_type": "code",
   "execution_count": 37,
   "metadata": {},
   "outputs": [],
   "source": [
    "from glob import glob\n",
    "import re\n",
    "\n",
    "path = \"../Data/SupervisedClassification/Images_train/\"\n",
    "path_test = \"../Data/SupervisedClassification/Images_test/\"\n",
    "\n",
    "data_path = glob(path+'*.jp*')\n",
    "data_test_path = glob(path_test+'*.jp*')\n",
    "\n",
    "trainType = 'Images_train/'\n",
    "testType = 'Images_test/'\n",
    "\n",
    "def data_fct(path, type) :\n",
    "    regular_express = r\"^../Data/SupervisedClassification/\"+type\n",
    "    data = []\n",
    "\n",
    "    for file in path:\n",
    "        complet_file = file\n",
    "        list_photos = re.sub(regular_express, \"\", complet_file)\n",
    "        data.append(list_photos)\n",
    "    df = pd.DataFrame(data, columns=['image_path'])\n",
    "    return df\n",
    "\n",
    "\n",
    "data = data_fct(data_path, trainType)\n",
    "data_test = data_fct(data_test_path, testType)\n",
    "\n",
    "data = pd.merge(data, df, on='image_path', how='left')\n",
    "data_test = pd.merge(data_test, df, on='image_path', how='left')"
   ]
  },
  {
   "cell_type": "code",
   "execution_count": 42,
   "metadata": {},
   "outputs": [],
   "source": [
    "batch_size = 32\n",
    "\n",
    "def data_flow_fct(data, datagen, directory_path, data_type=None,) :\n",
    "    data_flow = datagen.flow_from_dataframe(data, directory='../Data/SupervisedClassification/'+directory_path,\n",
    "                                x_col='image_path', y_col='product_category_tree',\n",
    "                                weight_col=None, target_size=(256, 256),\n",
    "                                classes=None, class_mode='categorical',\n",
    "                                batch_size=batch_size, shuffle=True, seed=42,\n",
    "                                subset=data_type\n",
    "                                )\n",
    "    return data_flow"
   ]
  },
  {
   "cell_type": "code",
   "execution_count": 43,
   "metadata": {},
   "outputs": [],
   "source": [
    "def create_model_fct() :\n",
    "    # Récupération modèle pré-entraîné\n",
    "    model0 = VGG16(include_top=False, weights=\"imagenet\", input_shape=(224, 224, 3))\n",
    "\n",
    "    # Layer non entraînables = on garde les poids du modèle pré-entraîné\n",
    "    for layer in model0.layers:\n",
    "        layer.trainable = False\n",
    "\n",
    "    # Récupérer la sortie de ce réseau\n",
    "    x = model0.output\n",
    "    # Compléter le modèle\n",
    "    x = GlobalAveragePooling2D()(x)\n",
    "    x = Dense(256, activation='relu')(x)\n",
    "    x = Dropout(0.5)(x)\n",
    "    predictions = Dense(7, activation='softmax')(x)\n",
    "\n",
    "    # Définir le nouveau modèle\n",
    "    model = Model(inputs=model0.input, outputs=predictions)\n",
    "    # compilation du modèle \n",
    "    model.compile(loss=\"categorical_crossentropy\", optimizer='rmsprop', metrics=[\"accuracy\"])\n",
    "\n",
    "    print(model.summary())\n",
    "    \n",
    "    return model"
   ]
  },
  {
   "cell_type": "code",
   "execution_count": 45,
   "metadata": {},
   "outputs": [
    {
     "name": "stdout",
     "output_type": "stream",
     "text": [
      "Found 596 validated image filenames belonging to 7 classes.\n",
      "Found 198 validated image filenames belonging to 7 classes.\n",
      "Found 256 validated image filenames belonging to 7 classes.\n"
     ]
    }
   ],
   "source": [
    "datagen_train = ImageDataGenerator(\n",
    "#    featurewise_center=True,\n",
    "#    featurewise_std_normalization=True,\n",
    "    rotation_range=20,\n",
    "    width_shift_range=0.2,\n",
    "    height_shift_range=0.2,\n",
    "    horizontal_flip=True,\n",
    "    validation_split=0.25,\n",
    "    preprocessing_function=preprocess_input)\n",
    "\n",
    "directory_train = 'Images_train/'\n",
    "directory_test = 'Images_test/'\n",
    "\n",
    "train_flow = data_flow_fct(data, datagen_train, directory_train, data_type='training')\n",
    "val_flow = data_flow_fct(data, datagen_train, directory_train, data_type='validation')\n",
    "\n",
    "datagen_test = ImageDataGenerator(\n",
    "    validation_split=0,\n",
    "    preprocessing_function=preprocess_input)\n",
    "\n",
    "test_flow = data_flow_fct(data_test, datagen_test, directory_test, data_type=None)\n",
    "\n",
    "# compute quantities required for featurewise normalization\n",
    "# (std, mean, and principal components if ZCA whitening is applied)\n",
    "# datagen.fit(X_train)\n",
    "# fits the model on batches with real-time data augmentation:"
   ]
  },
  {
   "cell_type": "code",
   "execution_count": 46,
   "metadata": {},
   "outputs": [
    {
     "name": "stdout",
     "output_type": "stream",
     "text": [
      "Model: \"model\"\n",
      "_________________________________________________________________\n",
      " Layer (type)                Output Shape              Param #   \n",
      "=================================================================\n",
      " input_1 (InputLayer)        [(None, 224, 224, 3)]     0         \n",
      "                                                                 \n",
      " block1_conv1 (Conv2D)       (None, 224, 224, 64)      1792      \n",
      "                                                                 \n",
      " block1_conv2 (Conv2D)       (None, 224, 224, 64)      36928     \n",
      "                                                                 \n",
      " block1_pool (MaxPooling2D)  (None, 112, 112, 64)      0         \n",
      "                                                                 \n",
      " block2_conv1 (Conv2D)       (None, 112, 112, 128)     73856     \n",
      "                                                                 \n",
      " block2_conv2 (Conv2D)       (None, 112, 112, 128)     147584    \n",
      "                                                                 \n",
      " block2_pool (MaxPooling2D)  (None, 56, 56, 128)       0         \n",
      "                                                                 \n",
      " block3_conv1 (Conv2D)       (None, 56, 56, 256)       295168    \n",
      "                                                                 \n",
      " block3_conv2 (Conv2D)       (None, 56, 56, 256)       590080    \n",
      "                                                                 \n",
      " block3_conv3 (Conv2D)       (None, 56, 56, 256)       590080    \n",
      "                                                                 \n",
      " block3_pool (MaxPooling2D)  (None, 28, 28, 256)       0         \n",
      "                                                                 \n",
      " block4_conv1 (Conv2D)       (None, 28, 28, 512)       1180160   \n",
      "                                                                 \n",
      " block4_conv2 (Conv2D)       (None, 28, 28, 512)       2359808   \n",
      "                                                                 \n",
      " block4_conv3 (Conv2D)       (None, 28, 28, 512)       2359808   \n",
      "                                                                 \n",
      " block4_pool (MaxPooling2D)  (None, 14, 14, 512)       0         \n",
      "                                                                 \n",
      " block5_conv1 (Conv2D)       (None, 14, 14, 512)       2359808   \n",
      "                                                                 \n",
      " block5_conv2 (Conv2D)       (None, 14, 14, 512)       2359808   \n",
      "                                                                 \n",
      " block5_conv3 (Conv2D)       (None, 14, 14, 512)       2359808   \n",
      "                                                                 \n",
      " block5_pool (MaxPooling2D)  (None, 7, 7, 512)         0         \n",
      "                                                                 \n",
      " global_average_pooling2d (  (None, 512)               0         \n",
      " GlobalAveragePooling2D)                                         \n",
      "                                                                 \n",
      " dense (Dense)               (None, 256)               131328    \n",
      "                                                                 \n",
      " dropout (Dropout)           (None, 256)               0         \n",
      "                                                                 \n",
      " dense_1 (Dense)             (None, 7)                 1799      \n",
      "                                                                 \n",
      "=================================================================\n",
      "Total params: 14847815 (56.64 MB)\n",
      "Trainable params: 133127 (520.03 KB)\n",
      "Non-trainable params: 14714688 (56.13 MB)\n",
      "_________________________________________________________________\n",
      "None\n"
     ]
    }
   ],
   "source": [
    "# Création du modèle\n",
    "#with tf.device('/gpu:0'): \n",
    "model2 = create_model_fct()\n",
    "\n",
    "# Création du callback\n",
    "model2_save_path = \"./model2_best_weights.h5\"\n",
    "checkpoint = ModelCheckpoint(model2_save_path, monitor='val_loss', verbose=1, save_best_only=True, mode='min')\n",
    "es = EarlyStopping(monitor='val_loss', mode='min', verbose=1, patience=5)\n",
    "callbacks_list = [checkpoint, es]"
   ]
  },
  {
   "cell_type": "code",
   "execution_count": 47,
   "metadata": {},
   "outputs": [
    {
     "name": "stdout",
     "output_type": "stream",
     "text": [
      "Epoch 1/10\n",
      "19/19 [==============================] - ETA: 0s - loss: 4.3470 - accuracy: 0.4312\n",
      "Epoch 1: val_loss improved from inf to 1.58215, saving model to ./model2_best_weights.h5\n",
      "19/19 [==============================] - 156s 8s/step - loss: 4.3470 - accuracy: 0.4312 - val_loss: 1.5822 - val_accuracy: 0.7071\n",
      "Epoch 2/10\n",
      "19/19 [==============================] - ETA: 0s - loss: 1.4928 - accuracy: 0.6762\n",
      "Epoch 2: val_loss improved from 1.58215 to 1.45709, saving model to ./model2_best_weights.h5\n",
      "19/19 [==============================] - 150s 8s/step - loss: 1.4928 - accuracy: 0.6762 - val_loss: 1.4571 - val_accuracy: 0.7020\n",
      "Epoch 3/10\n",
      "19/19 [==============================] - ETA: 0s - loss: 1.1886 - accuracy: 0.7148\n",
      "Epoch 3: val_loss improved from 1.45709 to 1.34654, saving model to ./model2_best_weights.h5\n",
      "19/19 [==============================] - 150s 8s/step - loss: 1.1886 - accuracy: 0.7148 - val_loss: 1.3465 - val_accuracy: 0.7273\n",
      "Epoch 4/10\n",
      "19/19 [==============================] - ETA: 0s - loss: 0.7302 - accuracy: 0.7903\n",
      "Epoch 4: val_loss improved from 1.34654 to 1.27979, saving model to ./model2_best_weights.h5\n",
      "19/19 [==============================] - 150s 8s/step - loss: 0.7302 - accuracy: 0.7903 - val_loss: 1.2798 - val_accuracy: 0.7576\n",
      "Epoch 5/10\n",
      "19/19 [==============================] - ETA: 0s - loss: 0.7660 - accuracy: 0.8070\n",
      "Epoch 5: val_loss improved from 1.27979 to 1.12461, saving model to ./model2_best_weights.h5\n",
      "19/19 [==============================] - 150s 8s/step - loss: 0.7660 - accuracy: 0.8070 - val_loss: 1.1246 - val_accuracy: 0.7424\n",
      "Epoch 6/10\n",
      "19/19 [==============================] - ETA: 0s - loss: 0.5089 - accuracy: 0.8356\n",
      "Epoch 6: val_loss did not improve from 1.12461\n",
      "19/19 [==============================] - 150s 8s/step - loss: 0.5089 - accuracy: 0.8356 - val_loss: 1.1455 - val_accuracy: 0.7323\n",
      "Epoch 7/10\n",
      "19/19 [==============================] - ETA: 0s - loss: 0.4793 - accuracy: 0.8473\n",
      "Epoch 7: val_loss did not improve from 1.12461\n",
      "19/19 [==============================] - 150s 8s/step - loss: 0.4793 - accuracy: 0.8473 - val_loss: 1.2426 - val_accuracy: 0.7525\n",
      "Epoch 8/10\n",
      "19/19 [==============================] - ETA: 0s - loss: 0.3745 - accuracy: 0.8691\n",
      "Epoch 8: val_loss did not improve from 1.12461\n",
      "19/19 [==============================] - 150s 8s/step - loss: 0.3745 - accuracy: 0.8691 - val_loss: 1.2100 - val_accuracy: 0.7778\n",
      "Epoch 9/10\n",
      "19/19 [==============================] - ETA: 0s - loss: 0.4276 - accuracy: 0.8708\n",
      "Epoch 9: val_loss did not improve from 1.12461\n",
      "19/19 [==============================] - 151s 8s/step - loss: 0.4276 - accuracy: 0.8708 - val_loss: 1.3136 - val_accuracy: 0.7778\n",
      "Epoch 10/10\n",
      "19/19 [==============================] - ETA: 0s - loss: 0.3057 - accuracy: 0.8943\n",
      "Epoch 10: val_loss improved from 1.12461 to 1.12189, saving model to ./model2_best_weights.h5\n",
      "19/19 [==============================] - 149s 8s/step - loss: 0.3057 - accuracy: 0.8943 - val_loss: 1.1219 - val_accuracy: 0.8030\n"
     ]
    }
   ],
   "source": [
    "#with tf.device('/gpu:0'): \n",
    "    #print(\"Number of training samples:\", len(train_flow))\n",
    "    #print(\"Number of validation samples:\", len(val_flow))\n",
    "\n",
    "history2 = model2.fit(train_flow, validation_data=val_flow, batch_size=batch_size, epochs=10, callbacks=callbacks_list, verbose=1)"
   ]
  },
  {
   "cell_type": "code",
   "execution_count": 48,
   "metadata": {},
   "outputs": [
    {
     "name": "stdout",
     "output_type": "stream",
     "text": [
      "19/19 [==============================] - 126s 6s/step - loss: 0.0750 - accuracy: 0.9748\n",
      "Training Accuracy   : 0.9748\n",
      "\n",
      "7/7 [==============================] - 38s 5s/step - loss: 1.2025 - accuracy: 0.7828\n",
      "Validation Accuracy :  0.7828\n"
     ]
    }
   ],
   "source": [
    "# Score du dernier epoch\n",
    "\n",
    "loss, accuracy = model2.evaluate(train_flow, verbose=True)\n",
    "print(\"Training Accuracy   : {:.4f}\".format(accuracy))\n",
    "print()\n",
    "loss, accuracy = model2.evaluate(val_flow, verbose=True)\n",
    "print(\"Validation Accuracy :  {:.4f}\".format(accuracy))"
   ]
  },
  {
   "cell_type": "code",
   "execution_count": 49,
   "metadata": {},
   "outputs": [
    {
     "name": "stdout",
     "output_type": "stream",
     "text": [
      "Validation Accuracy :  0.7980\n",
      "Test Accuracy       :  0.8242\n"
     ]
    }
   ],
   "source": [
    "# Score de l'epoch optimal\n",
    "\n",
    "model2.load_weights(model2_save_path)\n",
    "\n",
    "loss, accuracy = model2.evaluate(val_flow, verbose=False)\n",
    "print(\"Validation Accuracy :  {:.4f}\".format(accuracy))\n",
    "\n",
    "loss, accuracy = model2.evaluate(test_flow, verbose=False)\n",
    "print(\"Test Accuracy       :  {:.4f}\".format(accuracy))"
   ]
  },
  {
   "cell_type": "code",
   "execution_count": 50,
   "metadata": {},
   "outputs": [
    {
     "data": {
      "text/html": [
       "\n",
       "        <style>\n",
       "            .support_message_main_box {\n",
       "                position: relative;\n",
       "                display: table-cell;\n",
       "                vertical-align: middle;\n",
       "                width: 100%;\n",
       "                height: 8em;\n",
       "                padding: 1em;\n",
       "                padding-left: 11em;\n",
       "                background-color: #f7f7f7;\n",
       "                border: 1px solid #cfcfcf;\n",
       "                border-radius: 2px;\n",
       "            }\n",
       "            .support_message_main_box img {\n",
       "                position: absolute;\n",
       "                height: 9em;\n",
       "                width: 9em;\n",
       "                left: 0.5em;\n",
       "                top: 0.5em;\n",
       "                border-radius: 1em;\n",
       "            }\n",
       "        </style>\n",
       "        <div class=\"support_message_main_box\">\n",
       "            <img src=\"https://avatars.githubusercontent.com/u/7738570?v=4\" />\n",
       "            <p>\n",
       "            <b>Hi!</b><br/>\n",
       "            <span>I am the author of\n",
       "            <a href=\"https://github.com/LucaCappelletti94/plot_keras_history\" target=\"_blank\">\n",
       "                plot_keras_history\n",
       "            </a>, which you use in this Notebook.\n",
       "            </span><br/>\n",
       "            \n",
       "            <span>I love to code, but I also need coffee.</span>\n",
       "            <a href=\"https://github.com/sponsors/LucaCappelletti94\" target=\"_blank\">\n",
       "                Please sponsor me on GitHub ❤️\n",
       "            </a><br/>\n",
       "            <i>Good luck in your coding 🍀!</i>\n",
       "            <br/>\n",
       "            <i>- Luca</i>\n",
       "            </p>\n",
       "        <div>\n",
       "        "
      ],
      "text/plain": [
       "<IPython.core.display.HTML object>"
      ]
     },
     "metadata": {},
     "output_type": "display_data"
    },
    {
     "data": {
      "image/png": "[encoded data removed]",
      "text/plain": [
       "<Figure size 1000x500 with 2 Axes>"
      ]
     },
     "metadata": {},
     "output_type": "display_data"
    }
   ],
   "source": [
    "from plot_keras_history import show_history, plot_history\n",
    "import matplotlib.pyplot as plt\n",
    "\n",
    "show_history(history2)\n",
    "plt.close()"
   ]
  },
  {
   "cell_type": "code",
   "execution_count": null,
   "metadata": {},
   "outputs": [],
   "source": []
  }
 ],
 "metadata": {
  "kernelspec": {
   "display_name": "Projet6Env",
   "language": "python",
   "name": "python3"
  },
  "language_info": {
   "codemirror_mode": {
    "name": "ipython",
    "version": 3
   },
   "file_extension": ".py",
   "mimetype": "text/x-python",
   "name": "python",
   "nbconvert_exporter": "python",
   "pygments_lexer": "ipython3",
   "version": "3.10.9"
  }
 },
 "nbformat": 4,
 "nbformat_minor": 2
}
